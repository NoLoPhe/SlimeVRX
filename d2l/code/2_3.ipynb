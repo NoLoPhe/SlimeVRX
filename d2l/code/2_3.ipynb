{
  "nbformat": 4,
  "nbformat_minor": 0,
  "metadata": {
    "colab": {
      "name": "2.3.ipynb",
      "provenance": [],
      "collapsed_sections": []
    },
    "kernelspec": {
      "name": "python3",
      "display_name": "Python 3"
    },
    "language_info": {
      "name": "python"
    }
  },
  "cells": [
    {
      "cell_type": "markdown",
      "source": [
        "[![Open In Colab](https://colab.research.google.com/assets/colab-badge.svg)](https://colab.research.google.com/github/SlimeVRX/SlimeVRX/blob/main/d2l/code/2.3.ipynb)"
      ],
      "metadata": {
        "id": "-ilLDIDeGLVf"
      }
    },
    {
      "cell_type": "code",
      "source": [
        "import numpy as np"
      ],
      "metadata": {
        "id": "JPG077hM1u2o"
      },
      "execution_count": 1,
      "outputs": []
    },
    {
      "cell_type": "markdown",
      "source": [
        "1. Chứng minh rằng chuyển vị của một ma trận chuyển vị là chính nó:  (A⊤)⊤=A .\n",
        "```\n",
        "Chứng minh:\n",
        "A⊤ = [A⊤]ij = [A]ji\n",
        "(A⊤)⊤ = ([A]ji)⊤ = [A⊤]ji = [A]ij = A\n",
        "```"
      ],
      "metadata": {
        "id": "1jKTNvuI0s3p"
      }
    },
    {
      "cell_type": "markdown",
      "source": [
        "2. Cho hai ma trận A và B , chứng minh rằng tổng của chuyển vị bằng chuyển vị của tổng: A⊤+B⊤=(A+B)⊤ .\n",
        "```\n",
        "Chứng minh: A⊤ + B⊤ = (A+B)⊤\n",
        "A⊤ + B⊤ = [A⊤]ij + [B⊤]ij = [A]ji + [B]ji = [A+B]ji\n",
        "(A + B)⊤ = ([A]ij + [B]ij)⊤ = [A+B]ijT = [A+B]ji\n",
        "suy ra A⊤ + B⊤ = (A + B)⊤\n",
        "```"
      ],
      "metadata": {
        "id": "9g5SrEdk05EZ"
      }
    },
    {
      "cell_type": "markdown",
      "source": [
        "3. Cho một ma trận vuông A , liệu rằng A+A⊤ có luôn đối xứng? Tại sao?\n",
        "```\n",
        "Chứng minh:\n",
        "Anew[i,j] = A[i,j] + A⊤[i,j] = A[i,j] + A[j,i]\n",
        "Anew[j,i] = A[j,i] + A⊤[j,i] = A[j,i] + A[i,j]\n",
        "suy ra: Anew[i,j] = Anew[j,i] nên A+A⊤ luôn đối xứng\n",
        "```"
      ],
      "metadata": {
        "id": "TnzZX1pZ1DZZ"
      }
    },
    {
      "cell_type": "markdown",
      "source": [
        "4. Chúng ta đã định nghĩa tensor X với kích thước ( 2 , 3 , 4 ) trong mục này. Kết quả của len(X) là gì?\n",
        "```\n",
        "len(X) = 2\n",
        "```"
      ],
      "metadata": {
        "id": "vgiyuOER1Vxb"
      }
    },
    {
      "cell_type": "code",
      "source": [
        "a = np.arange(6).reshape(3, 2)\n",
        "X = np.arange(24).reshape(2, 3, 4)"
      ],
      "metadata": {
        "id": "iEWgaBQI1tPo"
      },
      "execution_count": 9,
      "outputs": []
    },
    {
      "cell_type": "code",
      "source": [
        "a"
      ],
      "metadata": {
        "colab": {
          "base_uri": "https://localhost:8080/"
        },
        "id": "ZS8HzmCi2GWB",
        "outputId": "dae8cafc-c3ad-496f-850e-d0c81e44c1f5"
      },
      "execution_count": 10,
      "outputs": [
        {
          "output_type": "execute_result",
          "data": {
            "text/plain": [
              "array([[0, 1],\n",
              "       [2, 3],\n",
              "       [4, 5]])"
            ]
          },
          "metadata": {},
          "execution_count": 10
        }
      ]
    },
    {
      "cell_type": "code",
      "source": [
        "len(a)"
      ],
      "metadata": {
        "colab": {
          "base_uri": "https://localhost:8080/"
        },
        "id": "bJVoGPci2RqR",
        "outputId": "a5635a89-2fd4-4598-a592-f8f7201df82c"
      },
      "execution_count": 11,
      "outputs": [
        {
          "output_type": "execute_result",
          "data": {
            "text/plain": [
              "3"
            ]
          },
          "metadata": {},
          "execution_count": 11
        }
      ]
    },
    {
      "cell_type": "code",
      "source": [
        "X"
      ],
      "metadata": {
        "colab": {
          "base_uri": "https://localhost:8080/"
        },
        "id": "Y2mgcMog2HMB",
        "outputId": "9ede3cdf-5f35-404d-f37c-941048940e2f"
      },
      "execution_count": 12,
      "outputs": [
        {
          "output_type": "execute_result",
          "data": {
            "text/plain": [
              "array([[[ 0,  1,  2,  3],\n",
              "        [ 4,  5,  6,  7],\n",
              "        [ 8,  9, 10, 11]],\n",
              "\n",
              "       [[12, 13, 14, 15],\n",
              "        [16, 17, 18, 19],\n",
              "        [20, 21, 22, 23]]])"
            ]
          },
          "metadata": {},
          "execution_count": 12
        }
      ]
    },
    {
      "cell_type": "code",
      "source": [
        "len(X)"
      ],
      "metadata": {
        "colab": {
          "base_uri": "https://localhost:8080/"
        },
        "id": "DU0hmNM72MtA",
        "outputId": "fbe90b12-83c2-42ab-8dbb-fb2668e12f10"
      },
      "execution_count": 13,
      "outputs": [
        {
          "output_type": "execute_result",
          "data": {
            "text/plain": [
              "2"
            ]
          },
          "metadata": {},
          "execution_count": 13
        }
      ]
    },
    {
      "cell_type": "markdown",
      "source": [
        "5. Cho một tensor X với kích thước bất kỳ, liệu len(X) có luôn tương ứng với độ dài của một trục nhất định của X hay không? Đó là trục nào?\n",
        "```\n",
        "axis=0\n",
        "tham khảo link: https://www.sharpsightlabs.com/blog/numpy-axes-explained/\n",
        "```"
      ],
      "metadata": {
        "id": "3lkwblCo2h29"
      }
    },
    {
      "cell_type": "markdown",
      "source": [
        "6. Chạy A / A.sum(axis=1) và xem điều gì xảy ra. Bạn có phân tích được nguyên nhân không?\n",
        "```\n",
        "Lỗi\n",
        "```"
      ],
      "metadata": {
        "id": "pdGKksjY2qrJ"
      }
    },
    {
      "cell_type": "code",
      "source": [
        "A = np.arange(12).reshape(3, 4)"
      ],
      "metadata": {
        "id": "83tv0uLD3HRB"
      },
      "execution_count": 15,
      "outputs": []
    },
    {
      "cell_type": "code",
      "source": [
        "A"
      ],
      "metadata": {
        "colab": {
          "base_uri": "https://localhost:8080/"
        },
        "id": "046hrp-O3XAW",
        "outputId": "6378be67-7098-4f0d-b38b-cc8a0e20675b"
      },
      "execution_count": 16,
      "outputs": [
        {
          "output_type": "execute_result",
          "data": {
            "text/plain": [
              "array([[ 0,  1,  2,  3],\n",
              "       [ 4,  5,  6,  7],\n",
              "       [ 8,  9, 10, 11]])"
            ]
          },
          "metadata": {},
          "execution_count": 16
        }
      ]
    },
    {
      "cell_type": "code",
      "source": [
        "len(A)"
      ],
      "metadata": {
        "colab": {
          "base_uri": "https://localhost:8080/"
        },
        "id": "m_xbxEgv4ZG0",
        "outputId": "0ad7072c-6d41-4068-9741-6f64f52936bc"
      },
      "execution_count": 21,
      "outputs": [
        {
          "output_type": "execute_result",
          "data": {
            "text/plain": [
              "3"
            ]
          },
          "metadata": {},
          "execution_count": 21
        }
      ]
    },
    {
      "cell_type": "code",
      "source": [
        "A.sum(axis=0)"
      ],
      "metadata": {
        "colab": {
          "base_uri": "https://localhost:8080/"
        },
        "id": "_ZlniREG3hFy",
        "outputId": "bd465016-7c9f-443c-b8d3-088662dadbf4"
      },
      "execution_count": 23,
      "outputs": [
        {
          "output_type": "execute_result",
          "data": {
            "text/plain": [
              "array([12, 15, 18, 21])"
            ]
          },
          "metadata": {},
          "execution_count": 23
        }
      ]
    },
    {
      "cell_type": "code",
      "source": [
        "A/A.sum(axis=1)"
      ],
      "metadata": {
        "colab": {
          "base_uri": "https://localhost:8080/",
          "height": 165
        },
        "id": "pcJrs72O3lVJ",
        "outputId": "788c265f-1795-40b5-8c70-72e319ee7ad3"
      },
      "execution_count": 20,
      "outputs": [
        {
          "output_type": "error",
          "ename": "ValueError",
          "evalue": "ignored",
          "traceback": [
            "\u001b[0;31m---------------------------------------------------------------------------\u001b[0m",
            "\u001b[0;31mValueError\u001b[0m                                Traceback (most recent call last)",
            "\u001b[0;32m<ipython-input-20-843b87d30a65>\u001b[0m in \u001b[0;36m<module>\u001b[0;34m()\u001b[0m\n\u001b[0;32m----> 1\u001b[0;31m \u001b[0mA\u001b[0m\u001b[0;34m/\u001b[0m\u001b[0mA\u001b[0m\u001b[0;34m.\u001b[0m\u001b[0msum\u001b[0m\u001b[0;34m(\u001b[0m\u001b[0maxis\u001b[0m\u001b[0;34m=\u001b[0m\u001b[0;36m1\u001b[0m\u001b[0;34m)\u001b[0m\u001b[0;34m\u001b[0m\u001b[0;34m\u001b[0m\u001b[0m\n\u001b[0m",
            "\u001b[0;31mValueError\u001b[0m: operands could not be broadcast together with shapes (3,4) (3,) "
          ]
        }
      ]
    },
    {
      "cell_type": "markdown",
      "source": [
        "7. Khi di chuyển giữa hai điểm ở Manhattan (đường phố hình bàn cờ), khoảng cách tính bằng tọa độ (tức độ dài các đại lộ và phố) mà bạn cần di chuyển là bao nhiêu? Bạn có thể đi theo đường chéo không? (Xem thêm bản đồ Manhattan, New York để trả lời câu hỏi này)\n",
        "```\n",
        "Không thể đi theo đường chéo, di chuyển theo trục X, Y.\n",
        "```\n"
      ],
      "metadata": {
        "id": "OJKmEG1m0LBc"
      }
    },
    {
      "cell_type": "markdown",
      "source": [
        "8. Xét một tensor với kích thước ( 2 ,  3 ,  4 ). Kích thước của kết quả sau khi tính tổng theo trục  0 ,  1  và  2  sẽ như thế nào?"
      ],
      "metadata": {
        "id": "xPmLWRBF5GCw"
      }
    },
    {
      "cell_type": "code",
      "source": [
        "X = np.arange(24).reshape(2, 3, 4)"
      ],
      "metadata": {
        "id": "LLBXeNhN5ZGb"
      },
      "execution_count": 24,
      "outputs": []
    },
    {
      "cell_type": "code",
      "source": [
        "X"
      ],
      "metadata": {
        "colab": {
          "base_uri": "https://localhost:8080/"
        },
        "id": "BdZYvpJq5gba",
        "outputId": "4cdfae20-13a0-44b6-ddaf-8f14af1a5b18"
      },
      "execution_count": 25,
      "outputs": [
        {
          "output_type": "execute_result",
          "data": {
            "text/plain": [
              "array([[[ 0,  1,  2,  3],\n",
              "        [ 4,  5,  6,  7],\n",
              "        [ 8,  9, 10, 11]],\n",
              "\n",
              "       [[12, 13, 14, 15],\n",
              "        [16, 17, 18, 19],\n",
              "        [20, 21, 22, 23]]])"
            ]
          },
          "metadata": {},
          "execution_count": 25
        }
      ]
    },
    {
      "cell_type": "code",
      "source": [
        "X.sum(axis=0)"
      ],
      "metadata": {
        "colab": {
          "base_uri": "https://localhost:8080/"
        },
        "id": "sj5t3dTe5hIx",
        "outputId": "6d3dc8ac-a59d-4d88-9195-134bfe4a4a3c"
      },
      "execution_count": 29,
      "outputs": [
        {
          "output_type": "execute_result",
          "data": {
            "text/plain": [
              "array([[12, 14, 16, 18],\n",
              "       [20, 22, 24, 26],\n",
              "       [28, 30, 32, 34]])"
            ]
          },
          "metadata": {},
          "execution_count": 29
        }
      ]
    },
    {
      "cell_type": "code",
      "source": [
        "X.sum(axis=1)"
      ],
      "metadata": {
        "colab": {
          "base_uri": "https://localhost:8080/"
        },
        "id": "_7UutFiW5ikU",
        "outputId": "647cf491-a236-4f3e-9a49-9049aaca2099"
      },
      "execution_count": 30,
      "outputs": [
        {
          "output_type": "execute_result",
          "data": {
            "text/plain": [
              "array([[12, 15, 18, 21],\n",
              "       [48, 51, 54, 57]])"
            ]
          },
          "metadata": {},
          "execution_count": 30
        }
      ]
    },
    {
      "cell_type": "code",
      "source": [
        "X.sum(axis=2)"
      ],
      "metadata": {
        "colab": {
          "base_uri": "https://localhost:8080/"
        },
        "id": "xBszdOXS5lD8",
        "outputId": "a318779f-c0c7-476f-b397-cfc305dbe75f"
      },
      "execution_count": 32,
      "outputs": [
        {
          "output_type": "execute_result",
          "data": {
            "text/plain": [
              "array([[ 6, 22, 38],\n",
              "       [54, 70, 86]])"
            ]
          },
          "metadata": {},
          "execution_count": 32
        }
      ]
    },
    {
      "cell_type": "markdown",
      "source": [
        "9. Đưa một tensor với 3 trục hoặc hơn vào hàm linalg.norm và quan sát kết quả. Hàm này thực hiện việc gì cho các ndarray với kích thước bất kỳ?"
      ],
      "metadata": {
        "id": "r4XHHMya5b0E"
      }
    },
    {
      "cell_type": "code",
      "source": [
        "Y = np.arange(3).reshape(3)"
      ],
      "metadata": {
        "id": "7YaqUdbk6TKa"
      },
      "execution_count": 41,
      "outputs": []
    },
    {
      "cell_type": "code",
      "source": [
        "Y"
      ],
      "metadata": {
        "colab": {
          "base_uri": "https://localhost:8080/"
        },
        "id": "OoMlM2X46YH6",
        "outputId": "4631c24d-c660-4efa-ee4a-539db48f54ac"
      },
      "execution_count": 42,
      "outputs": [
        {
          "output_type": "execute_result",
          "data": {
            "text/plain": [
              "array([0, 1, 2])"
            ]
          },
          "metadata": {},
          "execution_count": 42
        }
      ]
    },
    {
      "cell_type": "code",
      "source": [
        "np.linalg.norm(Y)"
      ],
      "metadata": {
        "colab": {
          "base_uri": "https://localhost:8080/"
        },
        "id": "nLJyA_f66exz",
        "outputId": "8c262a77-4058-4362-df3d-df71bf21fcd5"
      },
      "execution_count": 43,
      "outputs": [
        {
          "output_type": "execute_result",
          "data": {
            "text/plain": [
              "2.23606797749979"
            ]
          },
          "metadata": {},
          "execution_count": 43
        }
      ]
    },
    {
      "cell_type": "code",
      "source": [
        "np.sqrt(1**2+ 2**2)"
      ],
      "metadata": {
        "colab": {
          "base_uri": "https://localhost:8080/"
        },
        "id": "wDDEbk0L6uK-",
        "outputId": "41b6754b-c2bc-4821-fa1a-fc34d2889874"
      },
      "execution_count": 46,
      "outputs": [
        {
          "output_type": "execute_result",
          "data": {
            "text/plain": [
              "2.23606797749979"
            ]
          },
          "metadata": {},
          "execution_count": 46
        }
      ]
    },
    {
      "cell_type": "code",
      "source": [
        "X = np.arange(8).reshape(2,2,2)"
      ],
      "metadata": {
        "id": "f15hO9ir6Iq0"
      },
      "execution_count": 54,
      "outputs": []
    },
    {
      "cell_type": "code",
      "source": [
        "X"
      ],
      "metadata": {
        "colab": {
          "base_uri": "https://localhost:8080/"
        },
        "id": "lFhj_nXA6PIk",
        "outputId": "b8fae24e-c95e-4f07-b162-e356c90ebcbc"
      },
      "execution_count": 55,
      "outputs": [
        {
          "output_type": "execute_result",
          "data": {
            "text/plain": [
              "array([[[0, 1],\n",
              "        [2, 3]],\n",
              "\n",
              "       [[4, 5],\n",
              "        [6, 7]]])"
            ]
          },
          "metadata": {},
          "execution_count": 55
        }
      ]
    },
    {
      "cell_type": "code",
      "source": [
        "np.linalg.norm(X)"
      ],
      "metadata": {
        "colab": {
          "base_uri": "https://localhost:8080/"
        },
        "id": "0elXFHdc6Mwe",
        "outputId": "445299d0-0d09-4510-b197-f03aa36cb58e"
      },
      "execution_count": 49,
      "outputs": [
        {
          "output_type": "execute_result",
          "data": {
            "text/plain": [
              "11.832159566199232"
            ]
          },
          "metadata": {},
          "execution_count": 49
        }
      ]
    },
    {
      "cell_type": "code",
      "source": [
        "np.sqrt(1**2+ 2**2+ 3**2 + 4**2 + 5**2 + 6**2 + 7**2)"
      ],
      "metadata": {
        "colab": {
          "base_uri": "https://localhost:8080/"
        },
        "id": "ageb080l6-cT",
        "outputId": "eae2f6a8-15dc-44aa-9348-c1933ab29d87"
      },
      "execution_count": 56,
      "outputs": [
        {
          "output_type": "execute_result",
          "data": {
            "text/plain": [
              "11.832159566199232"
            ]
          },
          "metadata": {},
          "execution_count": 56
        }
      ]
    }
  ]
}
{
  "nbformat": 4,
  "nbformat_minor": 0,
  "metadata": {
    "colab": {
      "name": "06_1.ipynb",
      "provenance": [],
      "collapsed_sections": []
    },
    "kernelspec": {
      "name": "python3",
      "display_name": "Python 3"
    },
    "language_info": {
      "name": "python"
    }
  },
  "cells": [
    {
      "cell_type": "markdown",
      "source": [
        "[![Open In Colab](https://colab.research.google.com/assets/colab-badge.svg)](https://colab.research.google.com/github/SlimeVRX/SlimeVRX/blob/main/hipnuc/document/06_1.ipynb)\n",
        "\n",
        "## Study [Attitude determination for IMU & AHRS](https://zhuanlan.zhihu.com/p/351596374) \n",
        "#**Lesson 06_1: Prove the formula Antisymmetric matrix.**"
      ],
      "metadata": {
        "id": "ajzTH6RLd2cR"
      }
    },
    {
      "cell_type": "code",
      "source": [
        "import numpy as np\n",
        "from numpy.linalg import norm\n",
        "\n",
        "sin = np.sin\n",
        "cos = np.cos"
      ],
      "metadata": {
        "id": "Cjn82n0efXjQ"
      },
      "execution_count": null,
      "outputs": []
    },
    {
      "cell_type": "code",
      "source": [
        "def Euler_Rodrigues(M,theta):\n",
        "    dim = M.shape[0]\n",
        "    I = np.eye(dim)\n",
        "    MLG = I + sin(theta)*M + (1-cos(theta))*np.matmul(M,M)\n",
        "    return MLG"
      ],
      "metadata": {
        "id": "LZaTbNyKe1_H"
      },
      "execution_count": null,
      "outputs": []
    },
    {
      "cell_type": "code",
      "source": [
        "def ch_askew(v):\n",
        "    m = np.array([[0,     -v[2],   v[1]],\n",
        "                  [v[2],   0,     -v[0]],\n",
        "                  [-v[1],   v[0],   0]], dtype=np.float64)\n",
        "    return m"
      ],
      "metadata": {
        "id": "jg8fAoC8hFSG"
      },
      "execution_count": null,
      "outputs": []
    },
    {
      "cell_type": "code",
      "source": [
        "M = np.array([[0, -1, 0],\n",
        "              [1, 0, 0],\n",
        "              [0, 0, 0]])\n",
        "theta = 30\n",
        "Euler_Rodrigues(M,np.deg2rad(theta))"
      ],
      "metadata": {
        "colab": {
          "base_uri": "https://localhost:8080/"
        },
        "id": "5_9FxcvIfVmo",
        "outputId": "a25d15a7-6835-4e5a-a164-19f8026d25fc"
      },
      "execution_count": null,
      "outputs": [
        {
          "output_type": "execute_result",
          "data": {
            "text/plain": [
              "array([[ 0.8660254, -0.5      ,  0.       ],\n",
              "       [ 0.5      ,  0.8660254,  0.       ],\n",
              "       [ 0.       ,  0.       ,  1.       ]])"
            ]
          },
          "metadata": {},
          "execution_count": 9
        }
      ]
    },
    {
      "cell_type": "code",
      "source": [
        "# M = np.array([0.6781005, 0.6392788, 0.36263249])\n",
        "M = np.array([0.6096,  0.5747, 0.3260])\n",
        "theta = 30\n",
        "Euler_Rodrigues(ch_askew(M),np.deg2rad(theta))"
      ],
      "metadata": {
        "colab": {
          "base_uri": "https://localhost:8080/"
        },
        "id": "jju4C3rHgiqL",
        "outputId": "a6d87bea-b5ca-4834-bcbc-a659a998ee42"
      },
      "execution_count": null,
      "outputs": [
        {
          "output_type": "execute_result",
          "data": {
            "text/plain": [
              "array([[ 0.94151257, -0.11606373,  0.31397472],\n",
              "       [ 0.20993627,  0.93597513, -0.27969956],\n",
              "       [-0.26072528,  0.32990044,  0.90596427]])"
            ]
          },
          "metadata": {},
          "execution_count": 16
        }
      ]
    },
    {
      "cell_type": "code",
      "source": [
        "V = np.array([0, 0, 1])\n",
        "n = norm(V,2)\n",
        "# R = np.identity(3) + (sin(n)/n) * ch_askew(V) + ((1-cos(n)) / (n**2)) * (ch_askew(V).dot(ch_askew(V)))\n",
        "R = np.identity(3) + (sin(n)/n) * ch_askew(V) + ((1-cos(n)) / (n**2)) * np.matmul(ch_askew(V), ch_askew(V))\n",
        "print(R)"
      ],
      "metadata": {
        "colab": {
          "base_uri": "https://localhost:8080/"
        },
        "id": "UxXCA2IMiYBl",
        "outputId": "ebe4b49b-5b9a-43fe-95d2-af6159c2e20a"
      },
      "execution_count": null,
      "outputs": [
        {
          "output_type": "stream",
          "name": "stdout",
          "text": [
            "[[ 0.54030231 -0.84147098  0.        ]\n",
            " [ 0.84147098  0.54030231  0.        ]\n",
            " [ 0.          0.          1.        ]]\n"
          ]
        }
      ]
    },
    {
      "cell_type": "code",
      "source": [
        "ch_askew([0,0,1])"
      ],
      "metadata": {
        "colab": {
          "base_uri": "https://localhost:8080/"
        },
        "id": "j46qkAjyimP6",
        "outputId": "7dbaa4b0-35c5-4c31-c2df-4c8cb8ca8921"
      },
      "execution_count": null,
      "outputs": [
        {
          "output_type": "execute_result",
          "data": {
            "text/plain": [
              "array([[ 0., -1.,  0.],\n",
              "       [ 1.,  0.,  0.],\n",
              "       [ 0.,  0.,  0.]])"
            ]
          },
          "metadata": {},
          "execution_count": 21
        }
      ]
    },
    {
      "cell_type": "code",
      "source": [
        "rv = np.array([0, 0, 1])\n",
        "phi = norm(rv,2)\n",
        "u = rv / phi\n",
        "print(\"Rotation Vector (RV):\\n\", rv)\n",
        "print(\"The axis of rotation is: (Unit vector)\\n\", u)\n",
        "print(\"The rotation angle: %f deg\\n\" %(np.rad2deg(phi)))"
      ],
      "metadata": {
        "id": "QLBS3HXXjHok",
        "outputId": "499cf3e2-4bb6-43ef-f565-5a15aa9b5363",
        "colab": {
          "base_uri": "https://localhost:8080/"
        }
      },
      "execution_count": null,
      "outputs": [
        {
          "output_type": "stream",
          "name": "stdout",
          "text": [
            "Rotation Vector (RV):\n",
            " [0 0 1]\n",
            "The axis of rotation is: (Unit vector)\n",
            " [0. 0. 1.]\n",
            "The rotation angle: 57.295780 deg\n",
            "\n"
          ]
        }
      ]
    }
  ]
}
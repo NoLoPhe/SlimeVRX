{
  "nbformat": 4,
  "nbformat_minor": 0,
  "metadata": {
    "colab": {
      "name": "11.ipynb",
      "provenance": [],
      "collapsed_sections": []
    },
    "kernelspec": {
      "name": "python3",
      "display_name": "Python 3"
    },
    "language_info": {
      "name": "python"
    }
  },
  "cells": [
    {
      "cell_type": "markdown",
      "source": [
        "[![Open In Colab](https://colab.research.google.com/assets/colab-badge.svg)](https://colab.research.google.com/github/SlimeVRX/SlimeVRX/blob/main/hipnuc/document/11.ipynb)\n",
        "\n",
        "#**Study [Attitude for IMU & AHRS](https://zhuanlan.zhihu.com/p/351596374)**\n",
        "#**Lesson 11: Speed and position updates** [(速度及位置更新)](https://zhuanlan.zhihu.com/p/101391544)"
      ],
      "metadata": {
        "id": "YuNmagNQy6Y7"
      }
    },
    {
      "cell_type": "markdown",
      "source": [
        "Với giải pháp Attitude, \n",
        "\n",
        "Nguyên tắc cơ bản: Mối quan hệ giữa gia tốc, vận tốc và vị trí đã học ở trường trung học cơ sở: gia tốc là vi phân của vận tốc và vận tốc là vi phân của vị trí. Gia tốc có thể được đo bằng gia tốc kế, sau đó tích phân gia tốc để có được vận tốc, và tích phân vận tốc để có được vị trí.\n",
        "\n",
        "<p align=\"left\"><img width=\"500\", src=\"https://pic1.zhimg.com/80/v2-f7467b9e3e856f42161935b6b904bccc_720w.jpg\"></p>\n",
        "\n",
        "công thức điều hướng quán tính\n",
        "\n",
        "Trong trường hợp lý tưởng(tất cả các cảm biến không có lỗi):\n",
        "1. Đầu tiên thực hiện tính toán Attitude, để nhận được Cb2n tại mỗi thời điểm.\n",
        "2. Truyền giá trị đo gia tốc tại mỗi thời điểm cho hệ n thông qua Cb2n.\n",
        "3. Trừ trọng lực với giá trị đo gia tốc (lực riêng) trong hệ n để được gia tốc sau khi trừ trọng lực\n",
        "4. Tích phân gia tốc sau khi loại bỏ trọng lực để có vận tốc\n",
        "5. Tích phân vận tốc để có vị trí\n",
        "6. Kết thúc\n",
        "\n",
        "<p align=\"left\"><img width=\"1000\", src=\"https://pic1.zhimg.com/v2-63b6f230f997723d690e38d43f72fc04_r.jpg\"></p>\n",
        "\n",
        "Tóm tắt các thuật toán Attitude, trong đó tốc độ và vị trí được giải bằng phương pháp trung vị. Nếu đó là chi phí thấp, ngay cả phương pháp trung vị cũng có thể được bỏ qua và sự khác biệt không lớn.\n",
        "\n",
        "Nói nhiều quá nên mình hơi bối rối, vào Python và bắt đầu nhé. Dựa trên chức năng cập nhật Attitude Quaternion trước đó, viết một bản cập nhật giải pháp điều hướng quán tính."
      ],
      "metadata": {
        "id": "ILg-D0BLzNd6"
      }
    },
    {
      "cell_type": "code",
      "source": [
        "import numpy as np\n",
        "import matplotlib.pyplot as plt\n",
        "\n",
        "cos = np.cos\n",
        "sin = np.sin\n",
        "asin = np.arcsin\n",
        "atan2 = np.arctan2"
      ],
      "metadata": {
        "id": "lJjnQFTL-qV-"
      },
      "execution_count": 1,
      "outputs": []
    },
    {
      "cell_type": "code",
      "source": [
        "from numpy.linalg import norm\n",
        "def ch_qnormlz(q):\n",
        "    q = q / norm(q,2)\n",
        "    if q[0] < 0:\n",
        "        q[0] = -q[0]\n",
        "        q[1] = -q[1]\n",
        "        q[2] = -q[2]\n",
        "        q[3] = -q[3]\n",
        "    return q\n",
        "\n",
        "def ch_rv2q(rv):\n",
        "    nm2 = rv.dot(rv)\n",
        "    if nm2 < 1.e-8:\n",
        "        q0 = 1-nm2*(1/8-nm2/384)\n",
        "        s = 1/2-nm2*(1/48-nm2/3840)\n",
        "    else:\n",
        "        nm = np.sqrt(nm2)\n",
        "        q0 = cos(nm/2)\n",
        "        s = sin(nm/2)/nm\n",
        "    q = np.concatenate([[q0],s*rv])\n",
        "    return q\n",
        "\n",
        "def ch_qmul(q1, q2):\n",
        "    q = np.array([ q1[0] * q2[0] - q1[1] * q2[1] - q1[2] * q2[2] - q1[3] * q2[3],\n",
        "                   q1[0] * q2[1] + q1[1] * q2[0] + q1[2] * q2[3] - q1[3] * q2[2],\n",
        "                   q1[0] * q2[2] + q1[2] * q2[0] + q1[3] * q2[1] - q1[1] * q2[3],\n",
        "                   q1[0] * q2[3] + q1[3] * q2[0] + q1[1] * q2[2] - q1[2] * q2[1] ], dtype=np.float64)\n",
        "    return q\n",
        "\n",
        "def ch_att_upt(in_, gyr, dt):\n",
        "    # Véc tơ quay đơn nguyên\n",
        "    rv = gyr * dt\n",
        "    dq = ch_rv2q(rv)\n",
        "    \n",
        "    out = ch_qmul(in_, dq)\n",
        "    out = ch_qnormlz(out)\n",
        "    return out"
      ],
      "metadata": {
        "id": "h-Agy7eg-tld"
      },
      "execution_count": 2,
      "outputs": []
    },
    {
      "cell_type": "code",
      "source": [
        "def ch_qconj(qin):\n",
        "    return np.concatenate([[qin[0]], -qin[1:]])\n",
        "\n",
        "def ch_qmulv(q, vin):\n",
        "    qi = np.concatenate([[0], vin])\n",
        "    qo = ch_qmul(ch_qmul(q,qi),ch_qconj(q))\n",
        "    vout = qo[1:]\n",
        "    return vout\n",
        "\n",
        "def ch_nav_equ_local_tan(p, v, q ,acc, gyr, dt, gN):\n",
        "    # Cập nhật giải pháp điều hướng quán tính, hệ tọa độ Descartes cục bộ, không phụ thuộc vào lực hấp dẫn của Trái đất\n",
        "    # p vị trí XYZ đơn vị m\n",
        "    # v tốc độ XYZ đơn vị m/s\n",
        "    # q Attitude Qb2n, Quaternion\n",
        "    # acc đối chiếu, Phép đo gia tốc kế đơn vị (m/s^2)\n",
        "    # gyr vận tốc góc đơn vị (rad/s)\n",
        "    # dt khoảng thời gian tích phân 0.01s\n",
        "    # gn véc tơ trọng lực cục bộ\n",
        "    old_v = v\n",
        "    sf = acc\n",
        "\n",
        "    # Attitude ...\n",
        "    q = ch_att_upt(q, gyr, dt)\n",
        "\n",
        "    # Giải pháp vận tốc / Velocity\n",
        "    sf = ch_qmulv(q, sf)\n",
        "    sf = sf + gN\n",
        "    v = old_v + dt * sf\n",
        "\n",
        "    # Giải pháp vị trí\n",
        "    p = p + (old_v + v) * dt / 2\n",
        "    return p, v, q\n",
        "\n",
        "def ch_q2eul_312(Qb2n):\n",
        "    q0 = Qb2n[0]\n",
        "    q1 = Qb2n[1]\n",
        "    q2 = Qb2n[2]\n",
        "    q3 = Qb2n[3]\n",
        "\n",
        "    roll = -atan2(2 * (q1 * q3 - q0 * q2), q0 * q0 - q1 * q1 - q2 * q2 + q3 * q3)\n",
        "    pitch = asin(2 * (q0 * q1 + q2 * q3))\n",
        "    yaw = -atan2(2 * (q1 * q2 - q0 * q3), q0 * q0 - q1 * q1 + q2 * q2 - q3 * q3)\n",
        "    return pitch, roll, yaw"
      ],
      "metadata": {
        "id": "9VRJNjFP_avV"
      },
      "execution_count": 3,
      "outputs": []
    },
    {
      "cell_type": "markdown",
      "source": [
        "Ví dụ 1: Giải pháp điều hướng quán tính tĩnh\n",
        "\n",
        "Giả sử rằng đối tượng là đứng yên, thì về mặt lý thuyết, Attitude sẽ không thay đổi và kết quả của vị trí cũng không thay đổi, nhưng trong thực tế, cảm biến luôn có sai số và sai lệch bằng 0, vì vậy ngay cả khi nó là tĩnh, nếu bạn lấy dữ liệu cảm biến, không xử lý nó, chỉ cần đưa nó vào Giải pháp điều hướng quán tính, và sau một thời gian, Attitude và vị trí cũng sẽ được bù đắp. Sau đây là một mô phỏng của Python để thể hiện ý tưởng này:"
      ],
      "metadata": {
        "id": "B9IZ5GkF_8YH"
      }
    },
    {
      "cell_type": "code",
      "source": [
        "Fs = 100\n",
        "N = Fs*10\n",
        "\n",
        "gyr = np.array([0.1, 0.2, 0.3])\n",
        "acc = np.array([0, 0, 1])\n",
        "\n",
        "acc = acc * 9.795\n",
        "gyr = np.deg2rad(gyr)\n",
        "\n",
        "# Giải pháp Điều hướng Quán tính Strapdown\n",
        "p = np.zeros((3), dtype=np.float64)   # p = zeros(3, 1);\n",
        "v = np.zeros((3), dtype=np.float64)   # v = zeros(3, 1);\n",
        "q = np.array([1, 0, 0, 0])\n",
        "\n",
        "pos = np.zeros((N, 3), dtype=np.float64)\n",
        "vel = np.zeros((N, 3), dtype=np.float64)\n",
        "eul = np.zeros((N, 3), dtype=np.float64)\n",
        "\n",
        "for i in range(N):\n",
        "    p, v, q = ch_nav_equ_local_tan(p, v, q, acc, gyr, 1/Fs, np.array([0, 0, -9.795]))\n",
        "    pos[i, :] = p\n",
        "    vel[i, :] = v\n",
        "    eul[i, :] = np.rad2deg(ch_q2eul_312(q))\n",
        "\n",
        "# Thử nghiệm tích phân thuần túy: Gyro bias\n",
        "print('Gyro bias(rad):%.3f %.3f %.3f\\n' %(gyr[0], gyr[1], gyr[2]))\n",
        "\n",
        "# Thử nghiệm tích phân thuần túy: Plus bias\n",
        "print('Plus bias(m/s^(2)):%.3f %.3f %.3f\\n' %(acc[0], acc[1], acc[2]))\n",
        "\n",
        "print('Solving: %d times, Total time: %.3fs\\n' %(N, N /Fs))\n",
        "\n",
        "print('Final error (m): %.3f %.3f %.3f\\n' %(pos[N-1, 0],  pos[N-1, 1],  pos[N-1, 2]))\n",
        "\n",
        "# plt.figure()\n",
        "# plt.subplot(311)\n",
        "# plt.plot(pos)\n",
        "# plt.subplot(312)\n",
        "# plt.plot(vel)\n",
        "# plt.subplot(313)\n",
        "# plt.plot(eul)\n",
        "# plt.subplot(221)\n",
        "# plt.plot(pos)\n",
        "# plt.subplot(222)\n",
        "# plt.plot(vel)\n",
        "# plt.subplot(223)\n",
        "# plt.plot(eul)"
      ],
      "metadata": {
        "colab": {
          "base_uri": "https://localhost:8080/"
        },
        "id": "jjOXi9UIFXRi",
        "outputId": "7c94c809-f8d6-4e55-a898-7f71310b86ec"
      },
      "execution_count": 4,
      "outputs": [
        {
          "output_type": "stream",
          "name": "stdout",
          "text": [
            "Gyro bias(rad):0.002 0.003 0.005\n",
            "\n",
            "Plus bias(m/s^(2)):0.000 0.000 9.795\n",
            "\n",
            "Solving: 1000 times, Total time: 10.000s\n",
            "\n",
            "Final error (m): 5.743 -2.778 -0.062\n",
            "\n"
          ]
        }
      ]
    },
    {
      "cell_type": "code",
      "source": [
        "plt.plot(pos)\n",
        "ax = plt.subplot()\n",
        "ax.legend([\"PITCH(m)\", \"ROLL(m)\", \"YAW(m)\"])"
      ],
      "metadata": {
        "colab": {
          "base_uri": "https://localhost:8080/",
          "height": 337
        },
        "id": "teh_iZ4eFSWm",
        "outputId": "01d2c5be-384d-45b2-ae7b-ecf7c0e32dbc"
      },
      "execution_count": 5,
      "outputs": [
        {
          "output_type": "stream",
          "name": "stderr",
          "text": [
            "/usr/local/lib/python3.7/dist-packages/ipykernel_launcher.py:2: MatplotlibDeprecationWarning: Adding an axes using the same arguments as a previous axes currently reuses the earlier instance.  In a future version, a new instance will always be created and returned.  Meanwhile, this warning can be suppressed, and the future behavior ensured, by passing a unique label to each axes instance.\n",
            "  \n"
          ]
        },
        {
          "output_type": "execute_result",
          "data": {
            "text/plain": [
              "<matplotlib.legend.Legend at 0x7fda614cc650>"
            ]
          },
          "metadata": {},
          "execution_count": 5
        },
        {
          "output_type": "display_data",
          "data": {
            "text/plain": [
              "<Figure size 432x288 with 1 Axes>"
            ],
            "image/png": "[encoded data removed]"
          },
          "metadata": {
            "needs_background": "light"
          }
        }
      ]
    },
    {
      "cell_type": "code",
      "source": [
        "plt.plot(vel)\n",
        "ax = plt.subplot()\n",
        "ax.legend([\"PITCH(m/s)\", \"ROLL(m/s)\", \"YAW(m/s)\"])"
      ],
      "metadata": {
        "colab": {
          "base_uri": "https://localhost:8080/",
          "height": 337
        },
        "id": "gV_e3LmRHBkI",
        "outputId": "5e34eda8-df12-4a30-9527-a065c44a292f"
      },
      "execution_count": 6,
      "outputs": [
        {
          "output_type": "stream",
          "name": "stderr",
          "text": [
            "/usr/local/lib/python3.7/dist-packages/ipykernel_launcher.py:2: MatplotlibDeprecationWarning: Adding an axes using the same arguments as a previous axes currently reuses the earlier instance.  In a future version, a new instance will always be created and returned.  Meanwhile, this warning can be suppressed, and the future behavior ensured, by passing a unique label to each axes instance.\n",
            "  \n"
          ]
        },
        {
          "output_type": "execute_result",
          "data": {
            "text/plain": [
              "<matplotlib.legend.Legend at 0x7fda60faeb90>"
            ]
          },
          "metadata": {},
          "execution_count": 6
        },
        {
          "output_type": "display_data",
          "data": {
            "text/plain": [
              "<Figure size 432x288 with 1 Axes>"
            ],
            "image/png": "[encoded data removed]"
          },
          "metadata": {
            "needs_background": "light"
          }
        }
      ]
    },
    {
      "cell_type": "code",
      "source": [
        "plt.plot(eul)\n",
        "ax = plt.subplot()\n",
        "ax.legend([\"PITCH(deg)\", \"ROLL(deg)\", \"YAW(deg)\"])"
      ],
      "metadata": {
        "colab": {
          "base_uri": "https://localhost:8080/",
          "height": 337
        },
        "id": "3kSKIJA3HEpa",
        "outputId": "a87c6216-ed0a-42cd-ef86-cbe0af8800a6"
      },
      "execution_count": 7,
      "outputs": [
        {
          "output_type": "stream",
          "name": "stderr",
          "text": [
            "/usr/local/lib/python3.7/dist-packages/ipykernel_launcher.py:2: MatplotlibDeprecationWarning: Adding an axes using the same arguments as a previous axes currently reuses the earlier instance.  In a future version, a new instance will always be created and returned.  Meanwhile, this warning can be suppressed, and the future behavior ensured, by passing a unique label to each axes instance.\n",
            "  \n"
          ]
        },
        {
          "output_type": "execute_result",
          "data": {
            "text/plain": [
              "<matplotlib.legend.Legend at 0x7fda60f4b750>"
            ]
          },
          "metadata": {},
          "execution_count": 7
        },
        {
          "output_type": "display_data",
          "data": {
            "text/plain": [
              "<Figure size 432x288 with 1 Axes>"
            ],
            "image/png": "[encoded data removed]"
          },
          "metadata": {
            "needs_background": "light"
          }
        }
      ]
    },
    {
      "cell_type": "markdown",
      "source": [
        "Giải thích chương trình này:\n",
        "\n",
        "gyr =[0.1,0.2,0.3] là đầu ra con quay hồi chuyển trong mô phỏng tĩnh. Về lý thuyết, đầu ra con quay hồi chuyển phải bằng 0 ở trạng thái tĩnh, nhưng thực tế không phải vậy, có một \"thiên vị\" nào đó. Nói cách khác độ lệch trục X của con quay hồi chuyển = 0,1dps(°/s), trục Y = 0,2dps, trục Z = 0,3dps. Những giá trị này không quá phóng đại đối với một con quay hồi chuyển MEMS có giá hơn mười đô la.\n",
        "\n",
        "Theo cách tương tự, gia tốc sẽ xuất ra [0, 0, 1G] ở trạng thái tĩnh, (1G là gia tốc trọng trường cục bộ). Đối với chip MEMS thông thường, không có gì ngạc nhiên khi sai số gia tốc kế đạt 1-20mG, qua kết quả mô phỏng có thể thấy rằng **chỉ sau 10s, các sai lệch này có thể gây ra sai số tối đa gần 6 mét. Nếu là 1 phút, có thể gây ra sai số 1000 mét!**"
      ],
      "metadata": {
        "id": "UWwXDHQteot8"
      }
    },
    {
      "cell_type": "markdown",
      "source": [
        "Tóm lại là:\n",
        "- Giải pháp điều hướng quán tính được chia thành ba bước: cập nhật Attitude, cập nhật tốc độ và cập nhật vị trí. Trong đó, cập nhật Attitude là phức tạp nhất và cập nhật vị trí và tốc độ tương đối đơn giản.\n",
        "- **Nếu MEMS giá rẻ là dẫn đường quán tính thuần túy, thì sai số tính toán vị trí sẽ bay ra khỏi bầu trời, điều này không có ý nghĩa thực tế.** Các cảm biến khác cung cấp vị trí tuyệt đối (GPS) phải được thêm vào để tổng hợp dữ liệu.\n",
        "- Giải pháp Attitude -> giải pháp tốc độ -> giải pháp vị trí về bản chất là một quá trình tích phân, do đó phải có giá trị ban đầu và các bài toán sai số tích lũy. Nhiều người hỏi liệu MEMS giá rẻ có thể theo dõi quỹ đạo hoặc thậm chí điều hướng không. Câu trả lời là: về mặt lý thuyết là có, thực tế không. Nói chung, khi khảo sát chuyển động trên mặt đất, sai số tích lũy có thể lên đến hơn mười mét trong vài giây. Nếu bạn giải quyết vấn đề với điều hướng quán tính thuần túy trong 2 phút, ước tính rằng sự khác biệt có thể là vài Km. Các ví dụ trong phần này minh họa vấn đề này một cách sinh động.\n",
        "\n",
        "Chúng tôi thực sự khuyên bạn nên sửa đổi giá trị độ lệch và thời gian tích phân của con quay hồi chuyển và gia tốc, đồng thời trực quan cảm nhận mức độ ảnh hưởng của lỗi cảm biến đối với giải pháp điều hướng quán tính. Tôi cũng có thể hiểu được ý nghĩa của câu: **\"nếu MEMS giá rẻ là dẫn đường quán tính thuần túy thì sai số tính toán vị trí sẽ bay khỏi bầu trời\"**. Nhắc lại, giải pháp điều hướng quán tính về bản chất là một quá trình tích phân, điều này chắc chắn sẽ mang lại các lỗi tích lũy và các lỗi sẽ phân kỳ theo thời gian."
      ],
      "metadata": {
        "id": "M0pHikToj4Px"
      }
    }
  ]
}
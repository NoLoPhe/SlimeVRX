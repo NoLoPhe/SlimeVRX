{
  "nbformat": 4,
  "nbformat_minor": 0,
  "metadata": {
    "colab": {
      "name": "14.ipynb",
      "provenance": [],
      "collapsed_sections": []
    },
    "kernelspec": {
      "name": "python3",
      "display_name": "Python 3"
    },
    "language_info": {
      "name": "python"
    }
  },
  "cells": [
    {
      "cell_type": "markdown",
      "source": [
        "[![Open In Colab](https://colab.research.google.com/assets/colab-badge.svg)](https://colab.research.google.com/github/SlimeVRX/SlimeVRX/blob/main/hipnuc/document/14.ipynb)\n",
        "\n",
        "#**Study [Attitude for IMU & AHRS](https://zhuanlan.zhihu.com/p/351596374)**\n",
        "##**Lesson 14: Earth, Gravity and Coordinate Systems** [(地球，重力与坐标系)](https://zhuanlan.zhihu.com/p/360744867)"
      ],
      "metadata": {
        "id": "bXEefxMaDWFH"
      }
    },
    {
      "cell_type": "markdown",
      "source": [
        "> Hệ tọa độ tuy đã được giới thiệu từ trước nhưng không chuyên sâu và khiến mọi người cảm thấy hơi hoa mắt, bài viết này sẽ ôn tập lại các khái niệm chính thức về hệ tọa độ, hệ thống trái đất và lực hấp dẫn."
      ],
      "metadata": {
        "id": "jfAAiRQLDrah"
      }
    },
    {
      "cell_type": "markdown",
      "source": [
        "### Mô hình trái đất\n",
        "\n",
        "Hình dạng của trái đất không đều, bề mặt bị rỗ và nó không phải là hình cầu hoàn hảo. Làm thế nào chúng ta có thể thiết lập một mô hình toán học chính xác để nghiên cứu nó?\n",
        "\n",
        "Nói chung gần đúng như một hình cầu, trục quay của trái đất (trục cực) trùng với bán trục nhỏ của hình elip ~~, và độ lớn của hình elip bằng khoảng 1/300 (sự khác biệt giữa bán trục dài và ngắn là khoảng 21 km) (Trái đất là một khối).~~ Sự quay của một hình elip quanh bán trục nhỏ của nó tạo nên bề mặt của một hình cầu và đường xích đạo của Trái đất là hình tròn trong mô tả này.\n",
        "\n",
        "<p align=\"left\"><img width=\"350\", src=\"https://pic4.zhimg.com/80/v2-f0e7f75dd63506af5f79a28fe75415c7_720w.jpg\"></p>\n",
        "\n",
        "Một số khái niệm quan trọng:"
      ],
      "metadata": {
        "id": "kVTuyGaKD3mo"
      }
    },
    {
      "cell_type": "markdown",
      "source": [
        "Khi tôi không thể đọc hiểu lý thuyết được nữa -> tôi chuyển sang viết code, code dễ hiểu hơn nhiều"
      ],
      "metadata": {
        "id": "3SysheT_Vsu3"
      }
    },
    {
      "cell_type": "markdown",
      "source": [
        "### Hệ tọa độ chung"
      ],
      "metadata": {
        "id": "V6AijtsSTuIB"
      }
    },
    {
      "cell_type": "markdown",
      "source": [
        "### Trọng lực"
      ],
      "metadata": {
        "id": "lFSvWxGSTw1V"
      }
    },
    {
      "cell_type": "code",
      "source": [
        "import numpy as np\n",
        "\n",
        "sin = np.sin\n",
        "cos = np.cos\n",
        "asin = np.arcsin\n",
        "atan2 = np.arctan2\n",
        "atan = np.arctan"
      ],
      "metadata": {
        "id": "NapeYd5-URH2"
      },
      "execution_count": 26,
      "outputs": []
    },
    {
      "cell_type": "code",
      "source": [
        "def ch_gravity(lat, h):\n",
        "    gravity = 9.780325 * ( 1 + 0.0053024*sin(lat)**2 - 0.0000058*sin(lat*2)**2)\n",
        "    return gravity"
      ],
      "metadata": {
        "id": "7d7BxcWBUIX1"
      },
      "execution_count": 6,
      "outputs": []
    },
    {
      "cell_type": "code",
      "source": [
        "latd = np.array([45, 45, 45, 0, 90, 60])\n",
        "\n",
        "for i in range(len(latd)):\n",
        "  gravity = ch_gravity(np.deg2rad(latd[i]), 0)\n",
        "  # Vĩ độ -> Trọng lực\n",
        "  print(\"Latitude:%f -> Gravity:%f\\n\" %(latd[i], gravity))"
      ],
      "metadata": {
        "colab": {
          "base_uri": "https://localhost:8080/"
        },
        "id": "zYN-iu14UgXJ",
        "outputId": "d88798b4-ce82-41fd-a148-ff52809fb796"
      },
      "execution_count": 7,
      "outputs": [
        {
          "output_type": "stream",
          "name": "stdout",
          "text": [
            "Latitude:45.000000 -> Gravity:9.806198\n",
            "\n",
            "Latitude:45.000000 -> Gravity:9.806198\n",
            "\n",
            "Latitude:45.000000 -> Gravity:9.806198\n",
            "\n",
            "Latitude:0.000000 -> Gravity:9.780325\n",
            "\n",
            "Latitude:90.000000 -> Gravity:9.832184\n",
            "\n",
            "Latitude:60.000000 -> Gravity:9.819177\n",
            "\n"
          ]
        }
      ]
    },
    {
      "cell_type": "markdown",
      "source": [
        "### Chuyển đổi giữa dòng LLA và ECEF"
      ],
      "metadata": {
        "id": "Wa94JHjAT1F9"
      }
    },
    {
      "cell_type": "code",
      "source": [
        "def ch_LLA2ECEF(lat, lon, h):\n",
        "    # % 经纬高转ECEF坐标\n",
        "    # % lat:纬度(rad)\n",
        "    # % lon:经度(rad)\n",
        "    # % h高度(m)\n",
        "    R0 = 6378137          # WGS84 Equatorial radius in meters\n",
        "    e = 0.0818191908425   # WGS84 eccentricity\n",
        "\n",
        "    # Calculate transverse radius of curvature using (2.105)\n",
        "    RN = R0 / np.sqrt(1 - (e * sin(lat))**2)\n",
        "\n",
        "    # Convert position using (2.112)\n",
        "    clat = cos(lat)\n",
        "    slat = sin(lat)\n",
        "    clon = cos(lon)\n",
        "    slon = sin(lon)\n",
        "\n",
        "    XYZ = np.array([0, 0, 0], dtype=np.float64)\n",
        "\n",
        "    XYZ[0] = (RN + h) * clat * clon\n",
        "    XYZ[1] = (RN + h) * clat * slon\n",
        "    XYZ[2] = ((1 - e**2) * RN + h) * slat\n",
        "\n",
        "    return XYZ"
      ],
      "metadata": {
        "id": "8GyAgKvXVp_J"
      },
      "execution_count": 15,
      "outputs": []
    },
    {
      "cell_type": "code",
      "source": [
        "def ch_ECEF2LLA(XYZ):\n",
        "    # % ECEF坐标转经纬高\n",
        "    # % lat:纬度(rad)\n",
        "    # % lon:经度(rad)\n",
        "    # % h高度(m)\n",
        "\n",
        "    R_0 = 6378137           # WGS84 Equatorial radius in meters\n",
        "    e = 0.0818191908425     # WGS84 eccentricity\n",
        "\n",
        "    lon = atan2(XYZ[1],XYZ[0])\n",
        "\n",
        "    # From (C.29) and (C.30)\n",
        "    k1 = np.sqrt(1 - e**2) * np.abs(XYZ[2])\n",
        "    k2 = e**2 * R_0\n",
        "    beta = np.sqrt(XYZ[0]**2 + XYZ[1]**2)\n",
        "    E = (k1 - k2) / beta\n",
        "    F = (k1 + k2) / beta\n",
        "\n",
        "    # From (C.31)\n",
        "    P = 4/3 * (E*F + 1)\n",
        "\n",
        "    # From (C.32)\n",
        "    Q = 2 * (E**2 - F**2)\n",
        "\n",
        "    # From (C.33)\n",
        "    D = P**3 + Q**2\n",
        "\n",
        "    # From (C.34)\n",
        "    V = (np.sqrt(D) - Q)**(1/3) - (np.sqrt(D) + Q)**(1/3)\n",
        "\n",
        "    # From (C.35)\n",
        "    G = 0.5 * (np.sqrt(E**2 + V) + E)\n",
        "\n",
        "    # From (C.36)\n",
        "    T = np.sqrt(G**2 + (F - V * G) / (2 * G - E)) - G\n",
        "\n",
        "    # From (C.37)\n",
        "    lat = np.sign(XYZ[2]) * atan((1 - T**2) / (2 * T * np.sqrt(1 - e**2)))\n",
        "\n",
        "    # From (C.38)\n",
        "    h = (beta - R_0 * T) * cos(lat) + (XYZ[2] - np.sign(XYZ[2]) * R_0 * np.sqrt(1 - e**2)) * sin (lat)\n",
        "\n",
        "    return [lat, lon, h]"
      ],
      "metadata": {
        "id": "CIXCkiV3WWi3"
      },
      "execution_count": 24,
      "outputs": []
    },
    {
      "cell_type": "code",
      "source": [
        "latd = 45\n",
        "lond = 30\n",
        "h = 1000\n",
        "\n",
        "lat = np.deg2rad(latd)\n",
        "lon = np.deg2rad(lond)\n",
        "\n",
        "print(\"EX1: Latitude and Longitude: %.4f° %.4f° %.2fm\\n\" %(latd, lond ,h))\n",
        "\n",
        "XYZ = ch_LLA2ECEF(lat, lon, h)\n",
        "print(\"Convert to ECEF system coordinates: %.3f(m), %.3f(m) ,%.3f(m)\\n\\n\" %(XYZ[0], XYZ[1], XYZ[2]))\n",
        "\n",
        "XYZ = np.array([3912960.837, 2259148.993, 4488055.516])\n",
        "print(\"EX2: ECEF coordinates: %.3f(m) %.3f(m) %.3f(m)\\n\" %(XYZ[0], XYZ[1], XYZ[2]))\n",
        "[lat, lon, h] = ch_ECEF2LLA(XYZ)\n",
        "print(\"Convert to Latitude and Longitude height (LLA):%f(rad) %f(rad) %f(m)\\n\" %(lat, lon, h))"
      ],
      "metadata": {
        "colab": {
          "base_uri": "https://localhost:8080/"
        },
        "id": "4cVm-bqqads0",
        "outputId": "53876eb9-259b-45ae-cf28-34d8cc8da128"
      },
      "execution_count": 28,
      "outputs": [
        {
          "output_type": "stream",
          "name": "stdout",
          "text": [
            "EX1: Latitude and Longitude: 45.0000° 30.0000° 1000.00m\n",
            "\n",
            "Convert to ECEF system coordinates: 3912960.837(m), 2259148.993(m) ,4488055.516(m)\n",
            "\n",
            "\n",
            "EX2: ECEF coordinates: 3912960.837(m) 2259148.993(m) 4488055.516(m)\n",
            "\n",
            "Convert to Latitude and Longitude height (LLA):0.785398(rad) 0.523599(rad) 1000.000055(m)\n",
            "\n"
          ]
        }
      ]
    },
    {
      "cell_type": "markdown",
      "source": [
        "### Chuyển đổi giữa ENU (hệ tọa độ mặt phẳng tiếp tuyến cục bộ) và LLA"
      ],
      "metadata": {
        "id": "2L2XIcVAT6i1"
      }
    },
    {
      "cell_type": "code",
      "source": [
        "def ch_earth(lat, lon, h):\n",
        "\n",
        "    # %% 根据经纬度计算地球常用参数\n",
        "    # % INPUT\n",
        "    # % lat: 纬度(rad)\n",
        "    # % lon: 经度(rad)\n",
        "\n",
        "    # % OUTPUT\n",
        "    # % R_meridian(RM)： 南北向地球曲率半径, 子午圈曲率半径(竖着的)\n",
        "    # % R_transverse(RN)：东西向地球曲率半径, 卯酉圈曲率半径(横着的)\n",
        "    # % C_ECEF2ENU: ECEF到ENU转换矩阵\n",
        "    # % C_ECEF2NED: ECEF到NED转换矩阵\n",
        "\n",
        "    R0 = 6378137            # WGS84 赤道半径\n",
        "    e = 0.0818191908425     # WGS84 eccentricity\n",
        "\n",
        "    # Calculate meridian radius of curvature using (2.105)\n",
        "    temp = 1 - (e * sin(lat))**2\n",
        "    R_meridian = R0 * (1 - e**2) / temp**1.5\n",
        "\n",
        "    # Calculate transverse radius of curvature using (2.105)\n",
        "    R_transverse = R0 / np.sqrt(temp)\n",
        "\n",
        "    clat = cos(lat)\n",
        "    slat = sin(lat)\n",
        "    clon = cos(lon)\n",
        "    slon = sin(lon)\n",
        "\n",
        "    # C_ECEF2ENU = np.array([0, 0, 0], dtype=np.float64)\n",
        "    # C_ECEF2ENU[0,:] = [-slon ,             clon,                 0]\n",
        "    # C_ECEF2ENU[1,:] = [ -slat*clon,    -slat*slon,          clat]\n",
        "    # C_ECEF2ENU[2,:] = [ clat*clon,      clat*slon,          slat]\n",
        "\n",
        "    C_ECEF2ENU = np.array([[-slon ,             clon,                 0],\n",
        "                           [-slat*clon,    -slat*slon,          clat],\n",
        "                           [ clat*clon,      clat*slon,          slat]],dtype=np.float64)\n",
        "    \n",
        "    # C_ECEF2NED = np.array([0, 0, 0], dtype=np.float64)\n",
        "    # C_ECEF2NED[0,:] = [-slat*clon,     -slat * slon,       clat]\n",
        "    # C_ECEF2NED[1,:] = [-slon,             clon,                    0]\n",
        "    # C_ECEF2NED[2,:] = [ -clat*clon,   -clat*slon,        -slat]\n",
        "\n",
        "    C_ECEF2NED = np.array([[-slat*clon,     -slat * slon,       clat],\n",
        "                           [-slon,             clon,                    0],\n",
        "                           [ -clat*clon,   -clat*slon,        -slat]], dtype=np.float64)\n",
        "\n",
        "    return [R_meridian, R_transverse, C_ECEF2ENU, C_ECEF2NED]"
      ],
      "metadata": {
        "id": "p8SJg4uNea6r"
      },
      "execution_count": 37,
      "outputs": []
    },
    {
      "cell_type": "code",
      "source": [
        "def ch_LLA2ENU(lat, lon, h, lat0, lon0, h0):\n",
        "    # % 经纬高 转 ENU\n",
        "    # % lat0, lon0, h0: 起始点经纬高, 经纬度为rad， 高度为m\n",
        "    # % lat, lon, h 终点经纬高, 经纬度为rad， 高度为m\n",
        "    # % E, N ,U 系下增量，单位为m\n",
        "\n",
        "    # 精确算法\n",
        "    XYZ0 = ch_LLA2ECEF(lat0, lon0, h0)\n",
        "    XYZ1 = ch_LLA2ECEF(lat, lon, h)\n",
        "    dXYZ = XYZ1 - XYZ0\n",
        "\n",
        "    [_, _, C_ECEF2ENU, _] = ch_earth(lat0, lon0, h0)\n",
        "    dENU = C_ECEF2ENU.dot(dXYZ)\n",
        "    E = dENU[0]\n",
        "    N = dENU[1]\n",
        "    U = dENU[2]\n",
        "    \n",
        "    # 近似算法\n",
        "    # % R_0 = 6378137; %WGS84 Equatorial radius in meters\n",
        "    # % clat = cos(lat0);\n",
        "    # % E = (lon - lon0) * clat * R_0;\n",
        "    # % N =  (lat - lat0) * R_0;\n",
        "    # % U = h - h0;\n",
        "\n",
        "    return [E, N, U] "
      ],
      "metadata": {
        "id": "FN73OqRqdX_p"
      },
      "execution_count": 48,
      "outputs": []
    },
    {
      "cell_type": "code",
      "source": [
        "def ch_ENU2LLA(E, N ,U, lat0, lon0, h0):\n",
        "\n",
        "    # % ENU 转 经纬高\n",
        "    # % E, N ,U 系下增量，单位为m\n",
        "    # % lat0, lon0, h0: 起始点经纬高, 经纬度为rad， 高度为m\n",
        "    # % lat, lon, h 终点经纬高, 经纬度为rad， 高度为m\n",
        "\n",
        "    # 精确解\n",
        "    XYZ0 = ch_LLA2ECEF(lat0, lon0, h0)\n",
        "    [_, _, C_ECEF2ENU, _]= ch_earth(lat0, lon0, h0)\n",
        "    dXYZ = C_ECEF2ENU.T.dot(np.array([E, N, U], dtype=np.float64).T)\n",
        "    XYZ = dXYZ + XYZ0\n",
        "    [lat, lon, h] = ch_ECEF2LLA(XYZ)\n",
        "\n",
        "    return [lat, lon, h]"
      ],
      "metadata": {
        "id": "us-DGeihf6x7"
      },
      "execution_count": 55,
      "outputs": []
    },
    {
      "cell_type": "code",
      "source": [
        "lat0 = np.deg2rad(46.017)\n",
        "lon0 = np.deg2rad(7.750)\n",
        "h0 = 1673\n",
        "\n",
        "lat = np.deg2rad(45.976)\n",
        "lon = np.deg2rad(7.658)\n",
        "h = 4531\n",
        "\n",
        "[E, N, U] = ch_LLA2ENU(lat, lon, h, lat0, lon0, h0)\n",
        "\n",
        "print(\"EX1 - origin LLA: %f %f %f, target LLA: %f %f %f \\n\" %(lat0, lon0, h0, lat, lon, h))\n",
        "print(\"ENU increment after conversion: %f %f %f\\n\" %(E, N, U))\n",
        "\n",
        "lat0 = np.deg2rad(46.017)\n",
        "lon0 = np.deg2rad(7.750)\n",
        "h0 = 1673\n",
        "\n",
        "xEast = -7134.8\n",
        "yNorth = -4556.3\n",
        "zUp = 2852.4\n",
        "\n",
        "[lat, lon, h] = ch_ENU2LLA(xEast, yNorth, zUp, lat0, lon0, h0)\n",
        "print(\"EX2 - origin LLA: %f %f %f, ENU system down increment: %f %f %f \\n\" %(lat0, lon0, h0, xEast, yNorth, zUp))\n",
        "print(\"Convert to get the target point LLA:%f(deg) %f(deg) %f(m)\\n\" %(np.rad2deg(lat), np.rad2deg(lon), h))\n"
      ],
      "metadata": {
        "colab": {
          "base_uri": "https://localhost:8080/"
        },
        "id": "Ud1bnrVtgVYE",
        "outputId": "dbdd3be0-51db-4e76-d8b8-07ffd869941f"
      },
      "execution_count": 58,
      "outputs": [
        {
          "output_type": "stream",
          "name": "stdout",
          "text": [
            "EX1 - origin LLA: 0.803148 0.135263 1673.000000, target LLA: 0.802433 0.133657 4531.000000 \n",
            "\n",
            "ENU increment after conversion: -7134.757196 -4556.321514 2852.390424\n",
            "\n",
            "EX2 - origin LLA: 0.803148 0.135263 1673.000000, ENU system down increment: -7134.800000 -4556.300000 2852.400000 \n",
            "\n",
            "Convert to get the target point LLA:45.976000(deg) 7.657999(deg) 4531.009608(m)\n",
            "\n"
          ]
        }
      ]
    },
    {
      "cell_type": "markdown",
      "source": [
        "### Chuyển đổi giữa ECEF và ENU"
      ],
      "metadata": {
        "id": "a6MTKLHzUAZm"
      }
    },
    {
      "cell_type": "code",
      "execution_count": 59,
      "metadata": {
        "id": "osquImotDTWH"
      },
      "outputs": [],
      "source": [
        "def ch_ECEF2ENU(XYZ, lat0, lon0, h0):\n",
        "\n",
        "  # % ECEF坐标转ENU\n",
        "  # % lat0, lon0, h0: 起始点经纬高, 经纬度为rad， 高度为m\n",
        "  # % XYZ ECEF坐标  单位为m\n",
        "  # % ENU距离 单位为m\n",
        "\n",
        "  [lat, lon, h] = ch_ECEF2LLA(XYZ)\n",
        "\n",
        "  [E, N, U] =  ch_LLA2ENU(lat, lon, h,  lat0, lon0, h0)\n",
        "\n",
        "  return [E, N, U]"
      ]
    },
    {
      "cell_type": "code",
      "source": [
        "def ch_ENU2ECEF(E, N, U, lat0, lon0, h0):\n",
        "  # % ENU  转 ECEF\n",
        "  # % lat0, lon0, h0: 起始点经纬高, 经纬度为rad， 高度为m\n",
        "  # % ENU东北天距离，单位为m\n",
        "  # % 返回 ECEF坐标 单位m\n",
        "\n",
        "  [lat, lon, h] = ch_ENU2LLA(E, N, U, lat0, lon0, h0)\n",
        "  \n",
        "  XYZ = ch_LLA2ECEF(lat, lon, h)\n",
        "\n",
        "  return XYZ"
      ],
      "metadata": {
        "id": "6qIr29T0pf0l"
      },
      "execution_count": 60,
      "outputs": []
    },
    {
      "cell_type": "code",
      "source": [
        "lat0 = np.deg2rad(45.9132)\n",
        "lon0 = np.deg2rad(36.7484)\n",
        "h0 = 1877753.2\n",
        "\n",
        "x = 5507528.9\n",
        "y = 4556224.1\n",
        "z = 6012820.8\n",
        "\n",
        "[E, N, U] = ch_ECEF2ENU([x, y, z], lat0, lon0, h0)\n",
        "print(\"EX1 - Knowing ECEF coordinates of LLA, find in the ENU system\\n\")\n",
        "print(\"ENU offset: %f %f %f\\n\" %(E, N, U))\n",
        "\n",
        "E = 355601.261550\n",
        "N = -923083.155899\n",
        "U = 1041016.423793\n",
        "\n",
        "XYZ = ch_ENU2ECEF(E, N, U, lat0, lon0, h0)\n",
        "print(\"EX2 - Knowing LLA and ENU, find the ECEF coordinates\\n\")\n",
        "print(\"ECEF coordinates: %f %f %f\\n\" %(XYZ[0], XYZ[1], XYZ[2]))"
      ],
      "metadata": {
        "colab": {
          "base_uri": "https://localhost:8080/"
        },
        "id": "iI74z2v4pt-8",
        "outputId": "5d5fffb2-bb3b-44fd-8697-d209e9780085"
      },
      "execution_count": 62,
      "outputs": [
        {
          "output_type": "stream",
          "name": "stdout",
          "text": [
            "EX1 - Knowing ECEF coordinates of LLA, find in the ENU system\n",
            "\n",
            "ENU offset: 355601.261550 -923083.155899 1041016.423793\n",
            "\n",
            "EX2 - Knowing LLA and ENU, find the ECEF coordinates\n",
            "\n",
            "ECEF coordinates: 5507528.900000 4556224.100000 6012820.800000\n",
            "\n"
          ]
        }
      ]
    }
  ]
}
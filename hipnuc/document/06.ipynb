{
  "nbformat": 4,
  "nbformat_minor": 0,
  "metadata": {
    "colab": {
      "name": "06.ipynb",
      "provenance": [],
      "collapsed_sections": []
    },
    "kernelspec": {
      "name": "python3",
      "display_name": "Python 3"
    },
    "language_info": {
      "name": "python"
    }
  },
  "cells": [
    {
      "cell_type": "markdown",
      "source": [
        "[![Open In Colab](https://colab.research.google.com/assets/colab-badge.svg)](https://colab.research.google.com/github/SlimeVRX/SlimeVRX/blob/main/hipnuc/06.ipynb)\n",
        "\n",
        "## Study [Attitude determination for IMU & AHRS](https://zhuanlan.zhihu.com/p/351596374) \n",
        "#**Lesson 06: Antisymmetric matrix.**"
      ],
      "metadata": {
        "id": "EhmvxdybG-nr"
      }
    },
    {
      "cell_type": "markdown",
      "source": [
        "Bài viết này bắt đầu giới thiệu về hàm lũy thừa của ma trận phản đối xứng và ma trận phản đối xứng. Cuối cùng, có thể thấy rằng hàm lũy thừa của ma trận phản đối xứng và ma trận phản đối xứng có liên quan chặt chẽ với ma trận xoay / Attitude không gian 3D. (gyro attitude)\n",
        "\n",
        "### Ma trận đối xứng, phản đối xứng\n",
        "- Giả sử rằng A là ma trận vuông bậc n, nếu chuyển vị của ma trận A (A⊤ = A) thì ma trận A được gọi là ma trận đối xứng\n",
        "- Giả sử rằng A là ma trận vuông bậc n, nếu chuyển vị của ma trận A (A⊤ =−A) thì ma trận A được gọi là ma trận phản đối xứng\n",
        "\n",
        "Chú ý: Các phần tử trên đường chéo của ma trận phản đối xứng phải là 0, ví dụ:\n",
        "<p align=\"left\"><img width=\"150\", src=\"https://user-images.githubusercontent.com/60751518/158976153-21f76db2-2f6f-43f9-9daf-943a0b9c6d6f.jpg\"></p>\n",
        "\n",
        "Cho hai vectơ cột 3D\n",
        "\n",
        "<p align=\"left\"><img width=\"200\", src=\"https://www.zhihu.com/equation?tex=%5Cboldsymbol%7BV%7D_%7B1%7D%3D%5Cleft%5B%5Cbegin%7Barray%7D%7Blll%7D%7BV_%7B1+x%7D%7D+%26+%7BV_%7B1+y%7D%7D+%26+%7BV_%7B1+z%7D%7D%5Cend%7Barray%7D%5Cright%5D%5E%7B%5Cmathrm%7BT%7D%7D\"></p>\n",
        "\n",
        "<p align=\"left\"><img width=\"200\", src=\"https://www.zhihu.com/equation?tex=V_%7B2%7D%3D%5Cleft%5B%5Cbegin%7Barray%7D%7Blll%7D%7BV_%7B2+x%7D%7D+%26+%7BV_%7B2+y%7D%7D+%26+%7BV_%7B2+z%7D%7D%5Cend%7Barray%7D%5Cright%5D%5E%7BT%7D\"></p>\n",
        "\n",
        "Tích hai vectơ này có thể viết lại\n",
        "\n",
        "<p align=\"left\"><img width=\"550\", src=\"https://pic3.zhimg.com/80/v2-339682f6bb7f98d28f4e1f7d96d8555e_720w.jpg\"></p>\n",
        "\n",
        "<p align=\"left\"><img width=\"550\", src=\"https://pic1.zhimg.com/80/v2-1b6937095ff8e01535378cbc45631120_720w.jpg\"></p>\n",
        "\n",
        "<p align=\"left\"><img width=\"350\", src=\"https://pic3.zhimg.com/80/v2-05f20a4ffb977326e92a0d2636ba93fa_720w.jpg\"></p>\n",
        "\n",
        "<p align=\"left\"><img width=\"200\", src=\"https://www.zhihu.com/equation?tex=%5Cboldsymbol%7BV%7D_%7B1%7D+%5Ctimes+%5Cboldsymbol%7BV%7D_%7B2%7D%3D%5Cleft%28%5Cboldsymbol%7BV%7D_%7B1%7D+%5Ctimes%5Cright%29+%5Cboldsymbol%7BV%7D_%7B2%7D\"></p>"
      ],
      "metadata": {
        "id": "6gouDtTUG9Sv"
      }
    },
    {
      "cell_type": "code",
      "source": [
        "import numpy as np\n",
        "from numpy.linalg import norm\n",
        "\n",
        "sin = np.sin\n",
        "cos = np.cos"
      ],
      "metadata": {
        "id": "gBuSpAR1dVAx"
      },
      "execution_count": null,
      "outputs": []
    },
    {
      "cell_type": "code",
      "source": [
        "def ch_askew(v):\n",
        "    m = np.array([[0,     -v[2],   v[1]],\n",
        "                  [v[2],   0,     -v[0]],\n",
        "                  [-v[1],   v[0],   0]], dtype=np.float64)\n",
        "    return m"
      ],
      "metadata": {
        "id": "0FqaptMddWmR"
      },
      "execution_count": null,
      "outputs": []
    },
    {
      "cell_type": "markdown",
      "source": [
        "Một vài ví dụ để xác minh các tính chất cơ bản của ma trận phản đối xứng:"
      ],
      "metadata": {
        "id": "8T9MLcTjdjN4"
      }
    },
    {
      "cell_type": "code",
      "source": [
        "V1 = np.array([0.8147, 0.3249, 0.2462])\n",
        "V2 = np.array([0.3427, 0.3757, 0.5466])"
      ],
      "metadata": {
        "id": "rslHfdDjdj1J"
      },
      "execution_count": null,
      "outputs": []
    },
    {
      "cell_type": "code",
      "source": [
        "res = np.cross(V1, V2)\n",
        "print(\"Use the Python cross function: %.3f %.3f %.3f\\n\" %(res[0], res[1], res[2]))\n",
        "\n",
        "res = ch_askew(V1).dot(V2)\n",
        "print(\"The same result using the antisymmetric matrix: %.3f %.3f %.3f\\n\" %(res[0], res[1], res[2]))\n",
        "\n",
        "print(\"The anti-symmetric matrix, its transposition is equal to the negative sign itself:\")\n",
        "print(-ch_askew(V1).T)\n",
        "print(ch_askew(V1))"
      ],
      "metadata": {
        "colab": {
          "base_uri": "https://localhost:8080/"
        },
        "id": "GPM4WwAYe3-q",
        "outputId": "d483bef6-2be8-40f2-aa3d-1acc2a621705"
      },
      "execution_count": null,
      "outputs": [
        {
          "output_type": "stream",
          "name": "stdout",
          "text": [
            "Use the Python cross function: 0.085 -0.361 0.195\n",
            "\n",
            "The same result using the antisymmetric matrix: 0.085 -0.361 0.195\n",
            "\n",
            "The anti-symmetric matrix, its transposition is equal to the negative sign itself:\n",
            "[[-0.     -0.2462  0.3249]\n",
            " [ 0.2462 -0.     -0.8147]\n",
            " [-0.3249  0.8147 -0.    ]]\n",
            "[[ 0.     -0.2462  0.3249]\n",
            " [ 0.2462  0.     -0.8147]\n",
            " [-0.3249  0.8147  0.    ]]\n"
          ]
        }
      ]
    },
    {
      "cell_type": "markdown",
      "source": [
        "### Hàm mũ của ma trận phản đối xứng\n",
        "\n",
        "Theo định lý Cayley-Hamilton, hàm mũ ma trận phản đối xứng có thể được khai triển thành một chuỗi hữu hạn:\n",
        "\n",
        "<p align=\"left\"><img width=\"350\", src=\"https://pic3.zhimg.com/80/v2-232c4df61d42bb97a6c1536b05be9f62_720w.jpg\"></p>\n",
        "\n",
        "với\n",
        "\n",
        "<p align=\"left\"><img width=\"250\", src=\"https://www.zhihu.com/equation?tex=v%3D%7C%5Cboldsymbol%7BV%7D%7C%3D%5Csqrt%7BV_%7Bx%7D%5E%7B2%7D%2BV_%7By%7D%5E%7B2%7D%2BV_%7Bz%7D%5E%7B2%7D%7D\"></p>\n",
        "\n",
        "[Hướng dẫn chứng minh](https://blog.csdn.net/Anchor_Yin/article/details/120238915)"
      ],
      "metadata": {
        "id": "7_3jXjQkhaDi"
      }
    },
    {
      "cell_type": "code",
      "source": [
        "V = np.array([0.6096,  0.5747, 0.3260])\n",
        "n = norm(V,2)\n",
        "# R = np.identity(3) + (sin(n)/n) * ch_askew(V) + ((1-cos(n)) / (n**2)) * (ch_askew(V).dot(ch_askew(V)))\n",
        "R = np.identity(3) + (sin(n)/n) * ch_askew(V) + ((1-cos(n)) / (n**2)) * np.matmul(ch_askew(V), ch_askew(V))\n",
        "# R = I + sin(theta) * M + (1-cos(theta)) * matmul(M,M)\n",
        "print(\"Antisymmetric matrix exponentiation function solution formula:\\n\", R)"
      ],
      "metadata": {
        "colab": {
          "base_uri": "https://localhost:8080/"
        },
        "id": "05qTfQ1OiuCw",
        "outputId": "9dc81022-8da9-44c8-d90c-8dbf3f3f8a82"
      },
      "execution_count": null,
      "outputs": [
        {
          "output_type": "stream",
          "name": "stdout",
          "text": [
            "Antisymmetric matrix exponentiation function solution formula:\n",
            " [[ 0.79603205 -0.12014544  0.59320995]\n",
            " [ 0.44751479  0.77672086 -0.44321012]\n",
            " [-0.40750887  0.61827969  0.67206156]]\n"
          ]
        }
      ]
    },
    {
      "cell_type": "markdown",
      "source": [
        "### Khái niệm về (Axis-Angle) và Véc tơ quay (RV)\n",
        "\n",
        "Định lý Euler: Mọi chuyển động quay trong không gian đều có thể tương đương với chuyển động quay quanh một trục có độ dài đơn vị.\n",
        "\n",
        "<p align=\"left\"><img width=\"200\", src=\"https://pic1.zhimg.com/80/v2-90f4cd2972facc8b8c43326b58a3f238_720w.png\"></p>\n",
        "\n",
        "Xác định góc θ và vectơ độ dài đơn vị e, một phép quay có thể được biểu thị bằng một phép quay θ° quanh e, điều này rất dễ hiểu.\n",
        "\n",
        "Ví dụ: xung quanh trục quay [[0], [0], [1]], chuyển động quay 90° có thể được biểu thị dưới dạng sau (thực tế là chuyển động quay 90° quanh trục Z)\n",
        "\n",
        "<p align=\"left\"><img width=\"400\", src=\"https://www.zhihu.com/equation?tex=%7B%5Cdisplaystyle+%28%5Cmathrm+%7Baxis%7D+%2C%5Cmathrm+%7Bangle%7D+%29%3D%5Cleft%28%7B%5Cbegin%7Bbmatrix%7De_%7Bx%7D%5C%5Ce_%7By%7D%5C%5Ce_%7Bz%7D%5Cend%7Bbmatrix%7D%7D%2C%5Ctheta+%5Cright%29%3D%5Cleft%28%7B%5Cbegin%7Bbmatrix%7D0%5C%5C0%5C%5C1%5Cend%7Bbmatrix%7D%7D%2C%7B%5Cfrac+%7B%5Cpi+%7D%7B2%7D%7D%5Cright%29%7D\"></p>"
      ],
      "metadata": {
        "id": "-1hIUrM3qkbs"
      }
    },
    {
      "cell_type": "markdown",
      "source": [
        "<!-- Véc tơ quay tương đương (RV):\n",
        "\n",
        "Vectơ quay rất giống với cặp góc trục, sử dụng 4 hệ số để mô tả chuyển động. Theo định lý Euler, chuyển động hoàn toàn có thể được mô tả bằng cách sử dụng ba hệ số, do đó, có sự dư thừa trong cặp góc trục. Một vectơ quay thực sự là một \"nén\" của cặp góc trục. Làm thế nào để nén nó? Chỉ cần chuẩn hóa trục và nhân góc với vectơ trục.\n",
        "\n",
        "Giả sử trục của cặp góc trục là đơn nhất [công thức]và góc quay là [công thức]. [công thức]Sau đó xác định vectơ quay là:. Vectơ quay nén cặp góc trục và sử dụng ba số để biểu thị chuyển động quay -->"
      ],
      "metadata": {
        "id": "mnmHXA6osu8v"
      }
    },
    {
      "cell_type": "markdown",
      "source": [
        "### Công thức xoay của Rodrigues\n",
        "\n",
        "Công thức Rod thiết lập mối quan hệ giữa vectơ quay tương đương và ma trận Attitude:\n",
        "\n",
        "<p align=\"left\"><img width=\"500\", src=\"https://pic4.zhimg.com/80/v2-42e6ca7629a25bdb30969337463a776f_720w.png\"></p>\n",
        "\n",
        "Trong đó ϕ có vectơ quay tương đương (RV). Bạn có thể thấy rằng công thức Rod cũng giống như công thức lũy thừa ma trận phản đối xứng trước đây? Điều này có nghĩa là vectơ ba chiều trong hàm mũ lũy thừa trước đó có ý nghĩa vật lý của vectơ quay tương đương!"
      ],
      "metadata": {
        "id": "5ksJyuAMtsit"
      }
    },
    {
      "cell_type": "code",
      "source": [
        "def ch_rv2m(rv):\n",
        "    # Chuyển đổi vectơ quay tương đương thành ma trận quay\n",
        "    # Đầu vào: rv - vectơ quay\n",
        "    # Đầu ra: m - Ma trận xoay Cb2n\n",
        "    # m = I + sin(|rv|)/|rv|*(rvx) + [1-cos(|rv|)]/|rv|^2*(rvx)^2\n",
        "    # rvx là ma trận ch_askew\n",
        "    # m = I + sin(theta) * M + (1-cos(theta)) * matmul(M,M)\n",
        "\n",
        "    # chứng minh (https://blog.csdn.net/Anchor_Yin/article/details/120238915)\n",
        "    nm2 = rv.dot(rv)    # môđun của vectơ quay\n",
        "    if nm2 < 1.e-8:     # nếu môđun nhỏ, một vài số hạng đầu tiên của khai triển Taylor có thể được sử dụng để tìm hàm lượng giác\n",
        "        a = 1 - nm2 * (1 / 6 - nm2 / 120)       # a->1\n",
        "        b = 0.5 - nm2 * (1 / 24 - nm2 / 720)    # b->0.5\n",
        "    else:\n",
        "        nm = np.sqrt(nm2)\n",
        "        a = sin(nm) / nm\n",
        "        b = (1 - cos(nm)) / nm2\n",
        "    VX = ch_askew(rv)\n",
        "    m = np.identity(3) + a * VX + b * VX.dot(VX)\n",
        "    return m"
      ],
      "metadata": {
        "id": "K9GH2XG9u_xb"
      },
      "execution_count": null,
      "outputs": []
    },
    {
      "cell_type": "code",
      "source": [
        "rv = np.array([0.6096,  0.5747, 0.3260])\n",
        "phi = norm(rv,2)\n",
        "u = rv / phi\n",
        "print(\"Rotation Vector (RV):\\n\", rv)\n",
        "print(\"The axis of rotation is: (Unit vector)\\n\", u)\n",
        "print(\"The rotation angle: %f deg\\n\" %(np.rad2deg(phi)))\n",
        "\n",
        "R = ch_rv2m(rv)\n",
        "print(\"Use Rod's formula:\\n\", R)"
      ],
      "metadata": {
        "colab": {
          "base_uri": "https://localhost:8080/"
        },
        "id": "yHbypw9UweeV",
        "outputId": "08680735-4552-4f22-e7ba-27bce015dbc6"
      },
      "execution_count": null,
      "outputs": [
        {
          "output_type": "stream",
          "name": "stdout",
          "text": [
            "Rotation Vector (RV):\n",
            " [0.6096 0.5747 0.326 ]\n",
            "The axis of rotation is: (Unit vector)\n",
            " [0.6781005  0.6392788  0.36263249]\n",
            "The rotation angle: 51.507862 deg\n",
            "\n",
            "Use Rod's formula:\n",
            " [[ 0.79603205 -0.12014544  0.59320995]\n",
            " [ 0.44751479  0.77672086 -0.44321012]\n",
            " [-0.40750887  0.61827969  0.67206156]]\n"
          ]
        }
      ]
    },
    {
      "cell_type": "markdown",
      "source": [
        "Tóm tắt:\n",
        "- Hiểu các tính chất cơ bản của ma trận phản đối xứng và ý nghĩa vật lý của hàm lũy thừa của ma trận phản đối xứng.\n",
        "- Công thức Rod: thiết lập mối quan hệ giữa RV và ma trận Attitude.\n",
        "- Ma trận biến đổi cơ sở, ma trận biến đổi tọa độ, ma trận xoay Rodrigue, ma trận hàm lũy thừa của ma trận phản đối xứng là bốn ma trận thống nhất."
      ],
      "metadata": {
        "id": "M5n-MaAGx6uV"
      }
    }
  ]
}
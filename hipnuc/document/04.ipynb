{
  "nbformat": 4,
  "nbformat_minor": 0,
  "metadata": {
    "colab": {
      "name": "04.ipynb",
      "provenance": [],
      "collapsed_sections": []
    },
    "kernelspec": {
      "name": "python3",
      "display_name": "Python 3"
    },
    "language_info": {
      "name": "python"
    }
  },
  "cells": [
    {
      "cell_type": "markdown",
      "source": [
        "[![Open In Colab](https://colab.research.google.com/assets/colab-badge.svg)](https://colab.research.google.com/github/SlimeVRX/SlimeVRX/blob/main/hipnuc/document/04.ipynb)\n",
        "\n",
        "## Study [Attitude determination for IMU & AHRS](https://zhuanlan.zhihu.com/p/351596374) \n",
        "#**Lesson 04: 3D rotation, Euler angles.**"
      ],
      "metadata": {
        "id": "-ujbZtxhzji3"
      }
    },
    {
      "cell_type": "markdown",
      "source": [
        "Bài trước:\n",
        "\n",
        "Phải thành thạoba ma trận quay sơ cấp quan trọng nhất (phép quay Givens) , và đây là một điểm nhấn mạnh khác: các ma trận này là ma trận biến đổi tọa độ chuyển các tọa độ trong hệ b sang hệ n."
      ],
      "metadata": {
        "id": "aVSR5nfn073W"
      }
    },
    {
      "cell_type": "markdown",
      "source": [
        "Xoay tự do trong không gian 3D:\n",
        "\n",
        "Nhưng có một vấn đề với ba ma trận này! Bây giờ tôi chỉ có thể quay quanh một trục cố định, vậy tôi muốn quay quanh một trục nào khác thì phải làm thế nào?\n",
        "\n",
        "Phần này sẽ giải quyết vấn đề này: Tất nhiên, chúng ta sẽ nghĩ: Tôi biết rằng tôi quay quanh một trục cố định bằng một góc bất kỳ, vậy tôi có thể sử dụng nó như một phép chồng chất (phép nhân) của ba ma trận quay quanh một trục cố định quanh một trục bất kỳ? Vâng, đó là nó! Nhưng có những vấn đề khi nó được thực hiện.\n",
        "\n",
        "Một số câu hỏi quan trọng nhất: Tôi muốn chồng ba phép quay, vì vậy có một vấn đề liên quan đến trục nào quay trước, trục nào quay tiếp theo và trục nào quay sau cùng, cái gọi là bài toán thứ tự quay. Các thứ tự luân chuyển khác nhau phải dẫn đến các kết quả khác nhau, phải không?\n",
        "\n",
        "“Bài toán thứ tự quay” có thể được ví như “căn nguyên”. Nếu bạn đã từng xem công thức tính từ góc Euler đến ma trận quay, chắc hẳn bạn đã phải ngất ngây, “Tại sao bạn không viết ra đây này? Những vấn đề chưa đúng về cơ bản có thể tóm tắt như sau:\n",
        "\n",
        "1. Định nghĩa của thứ tự xoay là khác nhau đối với mọi người và nó không được giải thích trước.\n",
        "2. Người đọc không rõ ma trận xoay là b2n hay n2b.\n",
        "3. Người đọc không được biết đó là ma trận biến đổi tọa độ hay ma trận biến đổi hệ tọa độ."
      ],
      "metadata": {
        "id": "fGjeogmpzyl_"
      }
    },
    {
      "cell_type": "markdown",
      "source": [
        "Euler Angles\n",
        "\n",
        "Góc Euler thực chất là phép quay quanh một trục nào đó như đã nói ở trên, quanh 3 trục X, Y, Z nên góc Euler có 3 giá trị. 3 giá trị có thể xác định tư thế không gian của một đối tượng. Nhưng đừng quên, có vấn đề về thứ tự luân chuyển, vì vậy hãy lắng nghe cẩn thận bên dưới!\n",
        "\n",
        "Chuyển động quay của một điểm cố định của một vật thể cứng (hoặc hệ tọa độ) trong không gian ba chiều yêu cầu ba bậc tự do, bậc đơn giản nhất được biểu diễn bằng góc Euler. Nhưng do vấn đề thứ tự quay nên biểu diễn góc Euler không phải là duy nhất. Theo thứ tự quay khác nhau của hệ tọa độ quanh trục của nó, có nhiều cách xác định: đầu tiên quay quanh một trong ba trục tọa độ bất kỳ, có ba trường hợp thì quay quanh một trục bất kỳ trừ trục quay thứ nhất. Có 2 trường hợp, và cuối cùng quay quanh bất kỳ trục nào khác với trục quay thứ hai, và có 2 trường hợp, do đó có tổng số 3x2x2 = 12 định nghĩa khả dĩ. Nói chung, khi biểu diễn tham số góc Euler được đưa ra, phương pháp xác định của góc Euler phải được chỉ định.\n",
        "\n",
        "Đầu tiên chúng ta hãy xem xét một thứ tự xoay góc Euler thường được sử dụng:\n",
        "\n",
        "<p align=\"left\"><img width=\"400\", src=\"https://pic2.zhimg.com/80/v2-74e27f90e1da21e4d3bafc33bd3773ad_720w.jpg\"></p>\n",
        "\n",
        "Trong hình trên, giả sử Ox0y0z0 là một hệ tọa độ quy chiếu thuận tay phải, nó được quay ba lần như sau:\n",
        "\n",
        "1. Đầu tiên Ox0y0z0, xoay Oz0 theo chiều dương quanh trục một góc (alpha) để tạo thành hệ Ox1y1z1 (xoay Z trước)\n",
        "2. Ox1y1z1, Sau đó xoay Ox1 theo chiều dương quanh trục một góc (beta) để tạo thành hệ Ox2y2z2 (xoay X)\n",
        "3.Ox2y2z2, Cuối cùng xoay Oy2 theo chiều dương quanh trục một góc (gamma) để tạo thành hệ Ox3y3z3 (xoay Y cuối cùng)\n",
        "\n",
        "Chuỗi xoay này được viết tắt là \"(+3) (+ 1) (+ 2)\", hoặc còn được viết tắt là \" 312\" sau khi bỏ qua dấu \"+\" . Trong số đó, 1, 2 và 3 đại diện cho chuyển động quay quanh trục Ox, Oy, Oz và dấu ngoặc Dấu \"+\" bên trong cho biết góc quay được xác định là dương theo quy tắc bàn tay phải quanh trục tương ứng, và nếu \"-\" được sử dụng, góc quay được xác định là âm.\n",
        "\n",
        "Nếu hệ tọa độ khi chưa quay được coi là hệ n (Ox0y0z0) thì hệ tọa độ khi hoàn thành việc quay được coi là hệ b (Ox3y3z3). Kết hợp các kiến ​​thức trước, ta có thể nhận được Ox3y3z3 (hệ tọa độ chuyển động, hệ tọa độ sóng mang, hệ b) về Ox0y0z0 (hệ tọa độ quy chiếu, hệ n) ma trận quay: (phép nhân ma trận thỏa mãn quy tắc từ phải sang trái)\n",
        "\n",
        "<p align=\"left\"><img width=\"600\", src=\"https://pic2.zhimg.com/80/v2-687aaca6147df48d079d48feaed8b8a9_720w.jpg\"></p>\n",
        "\n",
        "Đây là gì? Đây là công thức chuyển đổi từ góc Euler (312) sang ma trận quay!"
      ],
      "metadata": {
        "id": "yj9wkMJj05U_"
      }
    },
    {
      "cell_type": "code",
      "source": [
        "import numpy as np\n",
        "\n",
        "cos = np.cos\n",
        "sin = np.sin"
      ],
      "metadata": {
        "id": "nW4-Vp6K8owA"
      },
      "execution_count": null,
      "outputs": []
    },
    {
      "cell_type": "code",
      "source": [
        "def ch_rotx(theta):\n",
        "    return np.array([[1, 0, 0], \n",
        "                     [0, cos(theta), -sin(theta)], \n",
        "                     [0, sin(theta), cos(theta)]])\n",
        "\n",
        "def ch_roty(theta):\n",
        "    return np.array([[cos(theta), 0, sin(theta)], \n",
        "                     [0, 1, 0], \n",
        "                     [-sin(theta), 0, cos(theta)]])\n",
        "\n",
        "def ch_rotz(theta):\n",
        "    return np.array([[cos(theta), -sin(theta), 0], \n",
        "                     [sin(theta), cos(theta), 0], \n",
        "                     [0, 0, 1]])"
      ],
      "metadata": {
        "id": "I8vo0UHt8uDD"
      },
      "execution_count": null,
      "outputs": []
    },
    {
      "cell_type": "code",
      "source": [
        "eul = [30, 40, 50]\n",
        "eul_rad = np.deg2rad(eul)\n",
        "print(\"Rotate in the order of 312 (first turn Z-then X-last Y) \\nwhere the rotation angle of X, Y, Z is %d° %d° %d° \\nto obtain the corresponding coordinate transformation matrix:\" %(eul[0], eul[1], eul[2]))\n",
        "Cb2n = ch_rotz(eul_rad[2]). dot(ch_rotx(eul_rad[0])). dot(ch_roty(eul_rad[1]))\n",
        "print(Cb2n)"
      ],
      "metadata": {
        "colab": {
          "base_uri": "https://localhost:8080/"
        },
        "id": "6Pc-LSDQ77fL",
        "outputId": "f38e650d-5649-4f51-9246-73cdd46725d5"
      },
      "execution_count": null,
      "outputs": [
        {
          "output_type": "stream",
          "name": "stdout",
          "text": [
            "Rotate in the order of 312 (first turn Z-then X-last Y) \n",
            "where the rotation angle of X, Y, Z is 30° 40° 50° \n",
            "to obtain the corresponding coordinate transformation matrix:\n",
            "[[ 0.24620194 -0.66341395  0.70658796]\n",
            " [ 0.79341204  0.5566704   0.24620194]\n",
            " [-0.5566704   0.5         0.66341395]]\n"
          ]
        }
      ]
    },
    {
      "cell_type": "markdown",
      "source": [
        "Bạn có thể tìm thấy các góc Euler khác nhau đối với các công thức ma trận xoay trên Internet, chúng có thể khác nhau hoặc vì 3 lý do có thể sau:\n",
        "1. Thứ tự quay góc Euler (ví dụ: một số 312, một số 321, 12 loại) được xác định khác nhau và chúng không được giải thích trước.\n",
        "2. Người đọc không rõ ma trận biến đổi là b2n hay n2b.\n",
        "3. Người đọc không được biết đó là ma trận biến đổi tọa độ hay ma trận biến đổi hệ tọa độ.\n",
        "\n",
        "Bài viết này sử dụng: thứ tự quay 312 (lần lượt là Z đầu tiên, sau đó đến X, và cuối cùng là Y), ma trận xoay kết quả là ma trận biến đổi tọa độ của b2n.\n",
        "\n",
        "Thứ tự 312 là một thứ tự phổ biến trong trường điều hướng trong nước, nhưng thứ tự 321 thường được sử dụng ở nước ngoài (xoay Z, sau đó đến Y và cuối cùng là X). \n",
        "\n",
        "Hãy cũng thử:"
      ],
      "metadata": {
        "id": "i-oQN1uzHdDv"
      }
    },
    {
      "cell_type": "code",
      "source": [
        "print(\"Rotate in the order of 321 (first turn Z-then Y-last X) \\nwhere the rotation angle of X, Y, Z is %d° %d° %d° \\nto obtain the corresponding coordinate transformation matrix:\" %(eul[0], eul[1], eul[2]))\n",
        "Cb2n = ch_rotz(eul_rad[2]). dot(ch_roty(eul_rad[1])). dot(ch_rotx(eul_rad[0]))\n",
        "print(Cb2n)"
      ],
      "metadata": {
        "colab": {
          "base_uri": "https://localhost:8080/"
        },
        "id": "PQHsaSI5IA4T",
        "outputId": "06640b18-983c-4acb-c4d7-4be9ff99ebef"
      },
      "execution_count": null,
      "outputs": [
        {
          "output_type": "stream",
          "name": "stdout",
          "text": [
            "Rotate in the order of 321 (first turn Z-then Y-last X) \n",
            "where the rotation angle of X, Y, Z is 30° 40° 50° \n",
            "to obtain the corresponding coordinate transformation matrix:\n",
            "[[ 0.49240388 -0.45682599  0.74084306]\n",
            " [ 0.58682409  0.80287234  0.10504046]\n",
            " [-0.64278761  0.38302222  0.66341395]]\n"
          ]
        }
      ]
    },
    {
      "cell_type": "markdown",
      "source": [
        "Như bạn thấy, mặc dù góc quay quanh mỗi trục là như nhau, nhưng các góc Euler trong các thứ tự quay khác nhau được chuyển thành ma trận quay một cách khác nhau. Nói cách khác: Mặc dù các góc quay xung quanh XYZ là như nhau, nhưng theo các thứ tự khác nhau phương pháp xoay sẽ kết thúc với các tư thế đối tượng khác nhau! (Ma trận không có tính chất giao hoán!)"
      ],
      "metadata": {
        "id": "unmr_4_YI6h8"
      }
    },
    {
      "cell_type": "markdown",
      "source": [
        "Quay ngược lại\n",
        "\n",
        "Công thức vừa rồi là b2n, vậy muốn lấy n2b thì phải làm thế nào? Trên thực tế, **chuyển vị** là cần thiết. Nhưng đối với góc Euler, thứ tự của ma trận cần phải được đảo ngược và giá trị của góc Euler cũng phải được đảo ngược.\n",
        "\n",
        "Hãy xác minh điều đó trong ma trận:"
      ],
      "metadata": {
        "id": "nl7byJwZJKlc"
      }
    },
    {
      "cell_type": "code",
      "source": [
        "eul = [30, 40, 50]\n",
        "\n",
        "print(\"Rotate in the order of 312 (first turn Z-then X-last Y) \\nwhere the rotation angle of X, Y, Z is %d° %d° %d° \\nto obtain the corresponding coordinate transformation matrix:\" %(eul[0], eul[1], eul[2]))\n",
        "eul_rad = np.deg2rad(eul)\n",
        "Cb2n = ch_rotz(eul_rad[2]). dot(ch_rotx(eul_rad[0])). dot(ch_roty(eul_rad[1]))\n",
        "print(Cb2n)\n",
        "\n",
        "print(\"Coordinate transformation matrix Cn2b from n system to b system: (Cb2n)\")\n",
        "Cn2b = Cb2n.T\n",
        "print(Cn2b)\n",
        "\n",
        "\n",
        "print(\"Cn2b calculated by Euler angles:\")\n",
        "Cn2b = ch_roty(-eul_rad[1]). dot(ch_rotx(-eul_rad[0])). dot(ch_rotz(-eul_rad[2]))\n",
        "print(Cn2b)\n",
        "print('Note: the rotation order of the matrix and the sign of Euler angles must be changed\\n')"
      ],
      "metadata": {
        "colab": {
          "base_uri": "https://localhost:8080/"
        },
        "id": "_svG-AW1JYx0",
        "outputId": "84b0a31b-8a41-4af7-a83f-c1bfbd5ed23a"
      },
      "execution_count": null,
      "outputs": [
        {
          "output_type": "stream",
          "name": "stdout",
          "text": [
            "Rotate in the order of 312 (first turn Z-then X-last Y) \n",
            "where the rotation angle of X, Y, Z is 30° 40° 50° \n",
            "to obtain the corresponding coordinate transformation matrix:\n",
            "[[ 0.24620194 -0.66341395  0.70658796]\n",
            " [ 0.79341204  0.5566704   0.24620194]\n",
            " [-0.5566704   0.5         0.66341395]]\n",
            "Coordinate transformation matrix Cn2b from n system to b system: (Cb2n)\n",
            "[[ 0.24620194  0.79341204 -0.5566704 ]\n",
            " [-0.66341395  0.5566704   0.5       ]\n",
            " [ 0.70658796  0.24620194  0.66341395]]\n",
            "Cn2b calculated by Euler angles:\n",
            "[[ 0.24620194  0.79341204 -0.5566704 ]\n",
            " [-0.66341395  0.5566704   0.5       ]\n",
            " [ 0.70658796  0.24620194  0.66341395]]\n",
            "Note: the rotation order of the matrix and the sign of Euler angles must be changed\n",
            "\n"
          ]
        }
      ]
    },
    {
      "cell_type": "markdown",
      "source": [
        "## Yaw, Pitch, Roll\n",
        "\n",
        "Trong các ứng dụng điều hướng thường sử dụng một tập hợp các góc Euler để mô tả định hướng không gian của một máy bay. Tập hợp các góc Euler mô tả một chiếc máy bay cũng thường được gọi là Attitude.\n",
        "\n",
        "Góc Yaw: Còn được gọi là góc phương vị, Chữ cái Hy Lạp: (phát âm là psi)\n",
        "\n",
        "<p align=\"left\"><img width=\"25\", src=\"https://www.zhihu.com/equation?tex=%5Cpsi\"></p>\n",
        "\n",
        "Góc Pitch: Còn được gọi là cao độ, độ cao. Chữ cái Hy Lạp: (phát âm là theta)\n",
        "\n",
        "<p align=\"left\"><img width=\"25\", src=\"https://www.zhihu.com/equation?tex=%5Ctheta\"></p>\n",
        "\n",
        "Góc Roll: còn được gọi là cuộn, chữ cái Hy Lạp (phát âm là phi)\n",
        "\n",
        "<p align=\"left\"><img width=\"25\", src=\"https://www.zhihu.com/equation?tex=%5Cphi\"></p>\n",
        "\n",
        "Đối với các trình tự quay góc Euler khác nhau, góc Pitch, góc Roll và góc Yaw cũng tương ứng với việc quay quanh các trục khác nhau."
      ],
      "metadata": {
        "id": "sRqP_4shqjql"
      }
    },
    {
      "cell_type": "markdown",
      "source": [
        "#### Quy ước góc Euler thứ tự quay 312\n",
        "\n",
        "Hệ thống máy bay sử dụng hệ thống tọa độ phía trước bên phải (RFU), và hệ thống tọa độ địa lý sử dụng hệ thống tọa độ phía đông-bắc-bầu trời (ENU). Thứ tự quay góc Euler là thứ tự quay Đông-Bắc-Bầu trời-312 (Z-> X-> Y).\n",
        "\n",
        "Định nghĩa cụ thể như sau:\n",
        "\n",
        "- Xoay quanh trục Z: Phạm vi góc Yaw: -180 ° - 180 ° (lưu ý rằng trục Z hướng lên và góc tiêu đề là dương về bên trái)\n",
        "- Xoay quanh trục X: Phạm vi góc Pitch: -90 ° -90 °\n",
        "- Xoay quanh trục Y: Phạm vi góc Roll: -180 ° -180 °\n",
        "\n",
        "Nếu bạn nghĩ về mô-đun như một chiếc máy bay. Chiều dương của trục Y phải được coi là hướng của đầu máy.\n",
        "\n",
        "<p align=\"left\"><img width=\"450\", src=\"https://pic1.zhimg.com/80/v2-52b063f2168749d7a8c9475bfdcc1720_720w.jpg\"></p>"
      ],
      "metadata": {
        "id": "3Nh5T_e9sQ9_"
      }
    },
    {
      "cell_type": "markdown",
      "source": [
        "#### Quy ước góc Euler thứ tự quay 321\n",
        "\n",
        "Hệ thống sóng mang sử dụng hệ tọa độ phải-trước-dưới. Thứ tự quay góc Euler là thứ tự quay ZYX (Z-> Y-> X).\n",
        "\n",
        "Các định nghĩa cụ thể như sau:\n",
        "\n",
        "- Xoay quanh trục Z: Phạm vi góc Yaw: -180 ° - 180 ° (lưu ý rằng trục Z hướng xuống và góc tiêu đề dương về bên phải)\n",
        "\n",
        "- Xoay quanh trục Y: Phạm vi góc Pitch: -90 ° -90 °\n",
        "\n",
        "- Xoay quanh trục X: Phạm vi góc Roll: -180 ° -180 °\n",
        "\n",
        "Nếu bạn nghĩ về mô-đun như một chiếc máy bay. Trục X nên được coi là hướng của đầu máy.\n",
        "\n",
        "<p align=\"left\"><img width=\"450\", src=\"https://pic4.zhimg.com/80/v2-fcb77ef49598e045bd06a4613661fd37_720w.jpg\"></p>\n",
        "\n",
        "<p align=\"left\"><img width=\"450\", src=\"https://pic1.zhimg.com/80/v2-d6af6ac9edc2844eada6f7756c820cc8_720w.jpg\"></p>"
      ],
      "metadata": {
        "id": "1SuXcmoVsTnN"
      }
    },
    {
      "cell_type": "markdown",
      "source": [
        "Tóm tắt về Euler Angles:\n",
        "\n",
        "1. Các góc của Euler rất trực quan, ba sơ đồ có thể được giải thích mà không cần sử dụng nhiều từ ngữ. Nhưng góc Euler có hai khuyết điểm (tính năng) chết người:\n",
        "2. Các góc Euler theo thứ tự: trục nào được quay trước, trục nào được quay tiếp theo và trục nào được quay sau cùng. Giá trị của góc Euler cuối cùng của các phương pháp quay khác nhau cũng khác nhau (đây là lý do tại sao công thức góc Euler từ bậc bốn đến góc Euler trên Internet không được thống nhất), điều bất nhất là đưa ra một bậc bốn cho công thức góc Euler, và nó không cho bạn biết thứ tự quay của các góc Euler là gì. Vì vậy, hãy nhớ: khi nói đến góc Euler, nó không chỉ là ba giá trị, mà còn là thứ tự xoay.\n",
        "3. Bất cứ khi nào góc Euler quay một trục, phép quay tiếp theo sẽ dựa trên phép quay trước đó: nói cách khác, sau khi xoay Yaw trước, một \"hệ tọa độ\" mới được hình thành, sau đó xoay Pitch trên này hệ thống tọa độ mới để tạo thành một \"hệ tọa độ\" mới, và sau đó quay Roll trên hệ tọa độ mới này."
      ],
      "metadata": {
        "id": "b1sLHdVut23M"
      }
    }
  ]
}
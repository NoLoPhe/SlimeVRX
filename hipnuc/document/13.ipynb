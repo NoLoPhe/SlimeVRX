{
  "nbformat": 4,
  "nbformat_minor": 0,
  "metadata": {
    "colab": {
      "name": "13.ipynb",
      "provenance": [],
      "collapsed_sections": []
    },
    "kernelspec": {
      "name": "python3",
      "display_name": "Python 3"
    },
    "language_info": {
      "name": "python"
    }
  },
  "cells": [
    {
      "cell_type": "markdown",
      "source": [
        "[![Open In Colab](https://colab.research.google.com/assets/colab-badge.svg)](https://colab.research.google.com/github/SlimeVRX/SlimeVRX/blob/main/hipnuc/document/13.ipynb)\n",
        "\n",
        "#**Study [Attitude for IMU & AHRS](https://zhuanlan.zhihu.com/p/351596374)**\n",
        "##**Lesson 13: Misalignment Angle, Attitude error Equation** [(失准角, 姿态误差方程)](https://zhuanlan.zhihu.com/p/102370994)"
      ],
      "metadata": {
        "id": "vqO5_rN7hnCe"
      }
    },
    {
      "cell_type": "markdown",
      "source": [
        "> Phương trình sai số là \"linh hồn\" của điều hướng quán tính. Nó là một công thức chết và bạn chỉ có thể áp dụng nó trực tiếp. Tuy nhiên, phải nắm vững phương trình lỗi. Tất cả các phương pháp phân tích điều hướng quán tính, bao gồm cả việc lấy ra ma trận trạng thái điều hướng tích hợp (sau này) đều phụ thuộc vào phương trình lỗi."
      ],
      "metadata": {
        "id": "lY4XaujwiDWH"
      }
    },
    {
      "cell_type": "markdown",
      "source": [
        "### Góc lệch\n",
        "\n",
        "Giả sử từ hệ tọa độ dẫn đường (n) đến hệ tọa độ sóng mang (b) ma trận thái độ không có lỗi lý tưởng Cb->n, ma trận thái độ tính toán được đưa ra trong máy tính dẫn đường là Cb->n'. Có một sự khác biệt giữa hai điều này. Người ta tin rằng các hệ thống b là trùng, và hệ n \"không chính xác\" tương ứng với Cb->n' được hệ tọa độ điều hướng máy tính n'. Có:\n",
        "\n",
        "<p align=\"left\"><img width=\"170\", src=\"https://pic3.zhimg.com/80/v2-485ca883bbbfd51983f55d19af78133e_720w.png\"></p>\n",
        "\n",
        "Lấy hệ n làm hệ tọa độ tham chiếu. Lưu ý vectơ quay tương đương Phi từ hệ n sang hệ n'. (Khi nó là một lượng nhỏ) theo công thức vectơ quay tương đương và công thức ma trận Attitude (Công thức Rod):\n",
        "\n",
        "<p align=\"left\"><img width=\"400\", src=\"https://www.zhihu.com/equation?tex=C_%7Bn%7D%5E%7Bn%5E%7B%5Cprime%7D%7D%3DI-%5Cfrac%7B%5Csin+%5Cphi%7D%7B%5Cphi%7D%28%5Cboldsymbol%7B%5Cphi%7D+%5Ctimes%29%2B%5Cfrac%7B1-%5Ccos+%5Cphi%7D%7B%5Cphi%5E%7B2%7D%7D%28%5Cboldsymbol%7B%5Cphi%7D+%5Ctimes%29%5E%7B2%7D\"></p>\n",
        "\n",
        "Bỏ qua đại lượng vô hướng bậc hai, có thể thu được đơn giản hóa:\n",
        "\n",
        "<p align=\"left\"><img width=\"350\", src=\"https://pic1.zhimg.com/80/v2-08217c289d8fdd9dd5837cf4df551d68_720w.png\"></p>\n",
        "\n",
        "định nghĩa góc lệch,"
      ],
      "metadata": {
        "id": "lgdcgWenitjm"
      }
    },
    {
      "cell_type": "code",
      "source": [
        "import numpy as np"
      ],
      "metadata": {
        "id": "JEWmfyIErdbs"
      },
      "execution_count": null,
      "outputs": []
    },
    {
      "cell_type": "code",
      "source": [
        "Cb2n = np.array([[    0.2462,   -0.6634,    0.7066],\n",
        "                 [    0.7934,    0.5567,    0.2462],\n",
        "                 [   -0.5567,    0.5000,    0.6634]])\n",
        "\n",
        "Cb2np = np.array([[    0.2434,   -0.6654,    0.7057],\n",
        "                  [    0.7943,    0.5544,    0.2487],\n",
        "                  [   -0.5567,    0.5000,    0.6634]])\n",
        "\n",
        "# Mảng Attitude thực\n",
        "print(\"Cb2n: Real Attitude array:\\n\")\n",
        "\n",
        "# Tính ma trận thái độ của hệ thống định vị (có lỗi)\n",
        "print(\"Cb2np: Calculate the attitude matrix of the navigation system (with errors):\\n\")\n",
        "\n",
        "# Ma trận phản đối xứng của độ lệch là\n",
        "print(\"The antisymmetric matrix of misalignment is:\\n\")\n",
        "phi_skew = -(Cb2np.dot(Cb2n.T)  - np.identity(3))\n",
        "print(phi_skew)\n",
        "\n",
        "phi = [-phi_skew[1,2], phi_skew[0,2], phi_skew[0,1]]\n",
        "phi = np.rad2deg(phi)\n",
        "# Góc lệch\n",
        "print(\"Misalignment angle: %f %f %f (deg)\\n\" %(phi[0], phi[1], phi[2]))"
      ],
      "metadata": {
        "colab": {
          "base_uri": "https://localhost:8080/"
        },
        "id": "DAoVG6ctrgxG",
        "outputId": "37d980df-9ebb-450c-ce2c-76af6e89e533"
      },
      "execution_count": null,
      "outputs": [
        {
          "output_type": "stream",
          "name": "stdout",
          "text": [
            "Cb2n: Real Attitude array:\n",
            "\n",
            "Cb2np: Calculate the attitude matrix of the navigation system (with errors):\n",
            "\n",
            "The antisymmetric matrix of misalignment is:\n",
            "\n",
            "[[ 9.40000e-07  3.57128e-03  3.94000e-05]\n",
            " [-3.49912e-03 -6.20400e-05 -7.70000e-07]\n",
            " [ 1.10000e-06  6.70000e-06 -1.44500e-05]]\n",
            "Misalignment angle: 0.000044 0.002257 0.204619 (deg)\n",
            "\n"
          ]
        }
      ]
    },
    {
      "cell_type": "markdown",
      "source": [
        "### Phương trình vi phân lỗi\n",
        "\n",
        "Phương trình sai số điều hướng quán tính chi phí thấp: (bỏ qua bước khởi tạo, bỏ qua ảnh hưởng của chuyển động quay của Trái đất)\n",
        "\n",
        "<p align=\"left\"><img width=\"350\", src=\"https://pic1.zhimg.com/80/v2-843f67d96470ec666f3c919a58a7c768_720w.jpg\"></p>\n",
        "\n",
        "trong đó:\n",
        "\n",
        "<p align=\"left\"><img width=\"30\", src=\"https://www.zhihu.com/equation?tex=%5Cphi\"></p>\n",
        "\n",
        "- Góc lệch.\n",
        "\n",
        "<p align=\"left\"><img width=\"50\", src=\"https://www.zhihu.com/equation?tex=w_%7B%5Cmathrm%7Bg%7D%7D%5E%7Bb%7D\"></p>\n",
        "\n",
        "- Con quay hồi chuyển tỷ lệ góc White Noise. không hiểu?\n",
        "\n",
        "<p align=\"left\"><img width=\"50\", src=\"https://www.zhihu.com/equation?tex=w_%7B%5Cmathrm%7Ba%7D%7D%5E%7Bb%7D\"></p>\n",
        "\n",
        "- Gia tốc kế tỷ lệ White Noise.\n",
        "\n",
        "<p align=\"left\"><img width=\"50\", src=\"https://www.zhihu.com/equation?tex=%5Cboldsymbol%7B%5Cnabla%7D_%7Br%7D%5E%7Bb%7D\"></p>\n",
        "\n",
        "- Gia tốc kế (Accelerometer) Zero Bias\n",
        "\n",
        "<p align=\"left\"><img width=\"50\", src=\"https://www.zhihu.com/equation?tex=%5Cboldsymbol%7B%5Cvarepsilon%7D_%7Br%7D%5E%7Bb%7D\"></p>\n",
        "\n",
        "- Con quay hồi chuyển (Gyro) bias"
      ],
      "metadata": {
        "id": "bVwb7K9Yv6Sa"
      }
    },
    {
      "cell_type": "markdown",
      "source": [
        "### Ký hiệu học trong **\"Động học Quaternion cho bộ lọc Kalman trạng thái lỗi\"**\n",
        "\n",
        "Động học Quaternion cho bộ lọc Kalman trạng thái lỗi là một bài báo rất nổi tiếng. Nhiều người học chế tạo robot và hướng dẫn điều hướng SLAM dựa trên bài báo này. Ở đây chúng tôi viết lại phương trình lỗi bằng cách sử dụng ký hiệu từ bài viết này, lưu ý rằng chúng tôi sử dụng cái mà nó gọi là (Lỗi góc toàn cục) (Global angular error). \n",
        "\n",
        "Ký hiệu học:\n",
        "\n",
        "<p align=\"left\"><img width=\"500\", src=\"https://pic3.zhimg.com/v2-7e2e5f44a3959c4d222952ff6a5a5f5e_r.jpg\"></p>\n",
        "\n",
        "Trong đó\n",
        "\n",
        "<p align=\"left\"><img width=\"50\", src=\"https://www.zhihu.com/equation?tex=%5Cdelta+%5Cmathbf%7Ba%7D_%7Bb%7D\"></p>\n",
        "\n",
        "là độ lệch (bias) của gia tốc kế,\n",
        "\n",
        "<p align=\"left\"><img width=\"50\", src=\"https://www.zhihu.com/equation?tex=%5Cdelta+%5Comega_%7Bb%7D\"></p>\n",
        "\n",
        "là độ lệch (bias) của con quay hồi chuyển,\n",
        "\n",
        "<p align=\"left\"><img width=\"35\", src=\"https://www.zhihu.com/equation?tex=%5Cdelta+%5Cmathrm%7Bg%7D\"></p>\n",
        "\n",
        "là sai số trọng lực, được bỏ qua trực tiếp là 0. Ngoài ra, sự khác biệt giữa phương trình vi phân tốc độ và hệ thống của giáo viên Yan là một dấu âm, đây thực sự là một vấn đề của định nghĩa của lỗi. Đừng lo lắng!\n",
        "\n",
        "Phương trình lỗi:\n",
        "\n",
        "<p align=\"left\"><img width=\"500\", src=\"https://pic4.zhimg.com/v2-c970bd9a60d7ac20523d3ccad104a37b_r.jpg\"></p>\n",
        "\n",
        "Trên thực tế, nó cũng giống như hệ thống của giáo viên Yan ở trên, nhưng hệ thống ký hiệu đã thay đổi."
      ],
      "metadata": {
        "id": "2H2fI3oeLbU_"
      }
    },
    {
      "cell_type": "markdown",
      "source": [
        "Tóm tắt\n",
        "\n",
        "- Phương trình vi phân điều hướng quán tính rất quan trọng và phải được thành thạo. Ngoài ra, các hệ thống khác nhau có thể có các ký hiệu khác nhau. Phương trình sai số chắc chắn là giống nhau đối với tất cả mọi người, nhưng vì lý do lịch sử trong các lĩnh vực khác nhau, các hệ thống ký hiệu luôn rất khác nhau."
      ],
      "metadata": {
        "id": "JXA_dkGJOkkH"
      }
    }
  ]
}
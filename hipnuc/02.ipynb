{
  "nbformat": 4,
  "nbformat_minor": 0,
  "metadata": {
    "colab": {
      "name": "02.ipynb",
      "provenance": []
    },
    "kernelspec": {
      "name": "python3",
      "display_name": "Python 3"
    },
    "language_info": {
      "name": "python"
    }
  },
  "cells": [
    {
      "cell_type": "markdown",
      "source": [
        "[![Open In Colab](https://colab.research.google.com/assets/colab-badge.svg)](https://colab.research.google.com/github/SlimeVRX/SlimeVRX/blob/main/hipnuc/02.ipynb)\n",
        "\n",
        "## Study [Attitude determination for IMU & AHRS](https://zhuanlan.zhihu.com/p/351596374) \n",
        "**Lesson 02: Simple coordinate system, 2D rotation.**"
      ],
      "metadata": {
        "id": "-ilLDIDeGLVf"
      }
    },
    {
      "cell_type": "markdown",
      "source": [
        "<p align=\"left\"><img width=\"392\", src=\"https://pic2.zhimg.com/80/v2-f7849f276d6222494c83a26c16e8b551_720w.jpg\"></p>\n",
        "\n",
        "Trong một mặt phẳng tọa độ 2D (OX1, OX2), cho điểm X(1,0) điểm này nằm trên trục OX1.\n",
        "\n",
        "Thực hiện phép quay ngược chiều kim đồng hồ step:45 độ\n",
        "\n",
        "Ma trận xoay 2D\n",
        "\n",
        "<p align=\"left\"><img width=\"207\", src=\"https://pic2.zhimg.com/80/v2-efcd174345bbd242be8ad5ec27669cb5_720w.jpg\"></p>"
      ],
      "metadata": {
        "id": "fldnUSRl4Liy"
      }
    },
    {
      "cell_type": "code",
      "source": [
        "import numpy as np\n",
        "\n",
        "pi = np.pi\n",
        "cos = np.cos\n",
        "sin = np.sin"
      ],
      "metadata": {
        "id": "0KfJZqMr3g5y"
      },
      "execution_count": 1,
      "outputs": []
    },
    {
      "cell_type": "code",
      "source": [
        "X = np.array([1,0])\n",
        "\n",
        "for i in range(0,361, 45):\n",
        "    theta = pi * i/180\n",
        "    R = np.array([[cos(theta), - sin(theta)],\n",
        "                  [sin(theta), cos(theta)]])\n",
        "    Y = R.dot(X)\n",
        "    print(\"X: [%.3f,%.3f] rotating %.1f get [%.3f %.3f] \" % (X[0],X[1], i, Y[0], Y[1]))"
      ],
      "metadata": {
        "colab": {
          "base_uri": "https://localhost:8080/"
        },
        "id": "iDxG-Kj13Ymo",
        "outputId": "d17e3adf-ee96-4daa-b5ef-31d1b1ed390e"
      },
      "execution_count": 7,
      "outputs": [
        {
          "output_type": "stream",
          "name": "stdout",
          "text": [
            "X: [1.000,0.000] rotating 0.0 get [1.000 0.000] \n",
            "X: [1.000,0.000] rotating 45.0 get [0.707 0.707] \n",
            "X: [1.000,0.000] rotating 90.0 get [0.000 1.000] \n",
            "X: [1.000,0.000] rotating 135.0 get [-0.707 0.707] \n",
            "X: [1.000,0.000] rotating 180.0 get [-1.000 0.000] \n",
            "X: [1.000,0.000] rotating 225.0 get [-0.707 -0.707] \n",
            "X: [1.000,0.000] rotating 270.0 get [-0.000 -1.000] \n",
            "X: [1.000,0.000] rotating 315.0 get [0.707 -0.707] \n",
            "X: [1.000,0.000] rotating 360.0 get [1.000 -0.000] \n"
          ]
        }
      ]
    }
  ]
}
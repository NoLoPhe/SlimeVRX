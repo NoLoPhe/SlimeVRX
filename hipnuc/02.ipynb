{
  "nbformat": 4,
  "nbformat_minor": 0,
  "metadata": {
    "colab": {
      "name": "02.ipynb",
      "provenance": [],
      "collapsed_sections": []
    },
    "kernelspec": {
      "name": "python3",
      "display_name": "Python 3"
    },
    "language_info": {
      "name": "python"
    }
  },
  "cells": [
    {
      "cell_type": "markdown",
      "source": [
        "[![Open In Colab](https://colab.research.google.com/assets/colab-badge.svg)](https://colab.research.google.com/github/SlimeVRX/SlimeVRX/blob/main/hipnuc/02.ipynb)\n",
        "\n",
        "## Study [Attitude determination for IMU & AHRS](https://zhuanlan.zhihu.com/p/351596374) \n",
        "#**Lesson 02: Simple coordinate system, 2D rotation.**"
      ],
      "metadata": {
        "id": "-ilLDIDeGLVf"
      }
    },
    {
      "cell_type": "markdown",
      "source": [
        "<p align=\"left\"><img width=\"392\", src=\"https://pic2.zhimg.com/80/v2-f7849f276d6222494c83a26c16e8b551_720w.jpg\"></p>\n",
        "\n",
        "Trong mặt phẳng tọa độ 2D (Ox1, Ox2), cho điểm X(1,0) điểm này nằm trên trục Ox1.\n",
        "\n",
        "Thực hiện phép quay ngược chiều kim đồng hồ step: 45 độ\n",
        "\n",
        "Ma trận xoay 2D\n",
        "\n",
        "<p align=\"left\"><img width=\"207\", src=\"https://pic2.zhimg.com/80/v2-efcd174345bbd242be8ad5ec27669cb5_720w.jpg\"></p>\n",
        "\n",
        "Nếu ta xác định hệ tọa độ trước phép quay là hệ b và hệ tọa độ sau phép quay là hệ i thì ma trận A là ma trận chuyển tọa độ từ hệ b sang hệ i \n",
        "\n",
        "b --> i\n",
        "\n",
        "<p align=\"left\"><img width=\"207\", src=\"https://www.zhihu.com/equation?tex=C%5E%7Bi%7D_%7Bb%7D+%3D+%5Cleft%5B%5Cbegin%7Barray%7D%7Bcc%7D+%5Ccos+%5Cvarphi+%26+-%5Csin+%5Cvarphi+%5C%5C+%5Csin+%5Cvarphi+%26+%5Ccos+%5Cvarphi+%5Cend%7Barray%7D%5Cright%5D\"></p>"
      ],
      "metadata": {
        "id": "fldnUSRl4Liy"
      }
    },
    {
      "cell_type": "code",
      "source": [
        "import numpy as np\n",
        "\n",
        "pi = np.pi\n",
        "cos = np.cos\n",
        "sin = np.sin"
      ],
      "metadata": {
        "id": "0KfJZqMr3g5y"
      },
      "execution_count": 1,
      "outputs": []
    },
    {
      "cell_type": "code",
      "source": [
        "X = np.array([1,0])\n",
        "\n",
        "for i in range(0,361, 45):\n",
        "    theta = pi * i/180\n",
        "    R = np.array([[cos(theta), - sin(theta)],\n",
        "                  [sin(theta), cos(theta)]])\n",
        "    Y = R.dot(X)\n",
        "    print(\"X: [%.3f,%.3f] rotating %.1f get [%.3f %.3f] \" % (X[0],X[1], i, Y[0], Y[1]))"
      ],
      "metadata": {
        "colab": {
          "base_uri": "https://localhost:8080/"
        },
        "id": "iDxG-Kj13Ymo",
        "outputId": "d17e3adf-ee96-4daa-b5ef-31d1b1ed390e"
      },
      "execution_count": 7,
      "outputs": [
        {
          "output_type": "stream",
          "name": "stdout",
          "text": [
            "X: [1.000,0.000] rotating 0.0 get [1.000 0.000] \n",
            "X: [1.000,0.000] rotating 45.0 get [0.707 0.707] \n",
            "X: [1.000,0.000] rotating 90.0 get [0.000 1.000] \n",
            "X: [1.000,0.000] rotating 135.0 get [-0.707 0.707] \n",
            "X: [1.000,0.000] rotating 180.0 get [-1.000 0.000] \n",
            "X: [1.000,0.000] rotating 225.0 get [-0.707 -0.707] \n",
            "X: [1.000,0.000] rotating 270.0 get [-0.000 -1.000] \n",
            "X: [1.000,0.000] rotating 315.0 get [0.707 -0.707] \n",
            "X: [1.000,0.000] rotating 360.0 get [1.000 -0.000] \n"
          ]
        }
      ]
    },
    {
      "cell_type": "markdown",
      "source": [
        "Tóm tắt:\n",
        "1. Có hiểu biết trực quan về hệ tọa độ, hệ tọa độ được chia thành hai loại là cố định và chuyển động, biết viết tắt và tên gọi của các hệ tọa độ thường dùng.\n",
        "2. Làm quen với cách quay 2D để tạo nền tảng cho các lần quay 3D tiếp theo.\n",
        "3. Lưu ý định dạng viết: ma trận chuyển đổi tọa độ của hệ b sang hệ i được viết dưới dạng: (từ dưới lên trên, hoặc dưới dạng b-> i)\n",
        "\n",
        "<p align=\"left\"><img width=\"25\", src=\"https://www.zhihu.com/equation?tex=C%5E%7Bi%7D_%7Bb%7D\"></p>\n",
        "\n",
        "<p align=\"left\"><img width=\"50\", src=\"https://www.zhihu.com/equation?tex=Cb2i\"></p>\n"
      ],
      "metadata": {
        "id": "mrPG9jCdjHDQ"
      }
    }
  ]
}
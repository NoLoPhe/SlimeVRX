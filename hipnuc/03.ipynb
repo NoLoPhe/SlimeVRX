{
  "nbformat": 4,
  "nbformat_minor": 0,
  "metadata": {
    "colab": {
      "name": "03.ipynb",
      "provenance": [],
      "collapsed_sections": []
    },
    "kernelspec": {
      "name": "python3",
      "display_name": "Python 3"
    },
    "language_info": {
      "name": "python"
    }
  },
  "cells": [
    {
      "cell_type": "markdown",
      "source": [
        "[![Open In Colab](https://colab.research.google.com/assets/colab-badge.svg)](https://colab.research.google.com/github/SlimeVRX/SlimeVRX/blob/main/hipnuc/02.ipynb)\n",
        "\n",
        "## Study [Attitude determination for IMU & AHRS](https://zhuanlan.zhihu.com/p/351596374) \n",
        "#**Lesson 03: 3D rotation.**"
      ],
      "metadata": {
        "id": "sQBfoqMmPBc0"
      }
    },
    {
      "cell_type": "markdown",
      "source": [
        "Hãy nhớ công thức quay 2D của b2i (ma trận chuyển tọa độ từ hệ b sang hệ i) trong bài trước:\n",
        "\n",
        "<p align=\"left\"><img width=\"207\", src=\"https://www.zhihu.com/equation?tex=C%5E%7Bi%7D_%7Bb%7D+%3D+%5Cleft%5B%5Cbegin%7Barray%7D%7Bcc%7D+%5Ccos+%5Cvarphi+%26+-%5Csin+%5Cvarphi+%5C%5C+%5Csin+%5Cvarphi+%26+%5Ccos+%5Cvarphi+%5Cend%7Barray%7D%5Cright%5D\"></p>\n",
        "\n",
        "Phép quay ba chiều có thể hiểu là quay hai chiều, trong không gian ba chiều trục quay nào cũng có thể quay được, trong bài này ta chỉ xét đến phép quay quanh các trục X, Y, Z.\n",
        "\n",
        "Ma trận chuyển đổi tọa độ để quay quanh trục Z:\n",
        "\n",
        "<p align=\"left\"><img width=\"207\", src=\"https://pic2.zhimg.com/80/v2-cf4cdeea2048b712d017e2dc54b53399_720w.jpg\"></p>\n",
        "\n",
        "Ma trận chuyển đổi tọa độ để quay quanh trục Y:\n",
        "\n",
        "<p align=\"left\"><img width=\"207\", src=\"https://pic3.zhimg.com/80/v2-11eab02fda4d0f35fd6dcb0070b29afa_720w.jpg\"></p>\n",
        "\n",
        "\n",
        "Ma trận chuyển đổi tọa độ để quay quanh trục X:\n",
        "\n",
        "<p align=\"left\"><img width=\"207\", src=\"https://pic1.zhimg.com/80/v2-18b95dd02920179695a1420b0566f908_720w.jpg\"></p>\n",
        "\n",
        "Trong không gian 3D, chuyển động quay quanh một trục cố định được gọi là chuyển động quay sơ cấp Givens, bất kỳ chuyển động quay nào trong không gian đều có thể được tổng hợp bởi ba phép quay cơ bản này."
      ],
      "metadata": {
        "id": "fvyZUKb5Ps04"
      }
    },
    {
      "cell_type": "code",
      "source": [
        "import numpy as np\n",
        "\n",
        "cos = np.cos\n",
        "sin = np.sin\n",
        "pi = np.pi"
      ],
      "metadata": {
        "id": "wtVtPgNTQdB0"
      },
      "execution_count": 1,
      "outputs": []
    },
    {
      "cell_type": "code",
      "execution_count": 2,
      "metadata": {
        "id": "26b0UK2EO-AX"
      },
      "outputs": [],
      "source": [
        "def ch_rotx(i):\n",
        "    theta = pi * i / 180\n",
        "    return np.array([[1, 0, 0],\n",
        "                     [0, cos(theta), -sin(theta)], \n",
        "                     [0, sin(theta), cos(theta)]])\n",
        "\n",
        "def ch_roty(i):\n",
        "    theta = pi * i / 180\n",
        "    return np.array([[cos(theta), 0, sin(theta)], \n",
        "                     [0, 1, 0], \n",
        "                     [-sin(theta), 0, cos(theta)]])\n",
        "\n",
        "def ch_rotz(i):\n",
        "    theta = pi * i / 180\n",
        "    return np.array([[cos(theta), -sin(theta), 0], \n",
        "                     [sin(theta), cos(theta), 0], \n",
        "                     [0, 0, 1]])"
      ]
    },
    {
      "cell_type": "code",
      "source": [
        "i = 30\n",
        "Cb2nX = ch_rotx(i)\n",
        "print(\"Rotate around the X axis %.1f ° the rotation matrix of Cb2nX:\\n\" %(i), Cb2nX)\n",
        "\n",
        "i = 40\n",
        "Cb2nY = ch_roty(i)\n",
        "print(\"Rotate around the Y axis %.1f ° the rotation matrix of Cb2nY:\\n\" %(i), Cb2nY)\n",
        "\n",
        "i = 50\n",
        "Cb2nZ = ch_rotz(i)\n",
        "print(\"Rotate around the Z axis %.1f ° the rotation matrix of Cb2nZ:\\n\" %(i), Cb2nZ)"
      ],
      "metadata": {
        "colab": {
          "base_uri": "https://localhost:8080/"
        },
        "id": "bPJu_awSQru6",
        "outputId": "1736a597-9724-4388-8f65-bf0305fb8a53"
      },
      "execution_count": 3,
      "outputs": [
        {
          "output_type": "stream",
          "name": "stdout",
          "text": [
            "Rotate around the X axis 30.0 ° the rotation matrix of Cb2nX:\n",
            " [[ 1.         0.         0.       ]\n",
            " [ 0.         0.8660254 -0.5      ]\n",
            " [ 0.         0.5        0.8660254]]\n",
            "Rotate around the Y axis 40.0 ° the rotation matrix of Cb2nY:\n",
            " [[ 0.76604444  0.          0.64278761]\n",
            " [ 0.          1.          0.        ]\n",
            " [-0.64278761  0.          0.76604444]]\n",
            "Rotate around the Z axis 50.0 ° the rotation matrix of Cb2nZ:\n",
            " [[ 0.64278761 -0.76604444  0.        ]\n",
            " [ 0.76604444  0.64278761  0.        ]\n",
            " [ 0.          0.          1.        ]]\n"
          ]
        }
      ]
    },
    {
      "cell_type": "markdown",
      "source": [
        "Chuyển một điểm tọa độ A trong hệ b sang hệ n thông qua các ma trận sau:"
      ],
      "metadata": {
        "id": "gRt1qF9gpeIW"
      }
    },
    {
      "cell_type": "code",
      "source": [
        "Ab = np.array([0, 0, 1])\n",
        "\n",
        "print(\"point A belongs to the coordinate b system:\\n\", Ab)\n",
        "\n",
        "An = ch_rotx(30).dot(Ab)\n",
        "print(\"The point A belongs to the coordinate b system is rotated to the n system by Cb2nX:\\n\", An)\n",
        "\n",
        "An = ch_roty(40).dot(Ab)\n",
        "print(\"The point A belongs to the coordinate b system is rotated to the n system by Cb2nY: \\n\", An)\n",
        "\n",
        "An = ch_rotz(50).dot(Ab)\n",
        "print(\"The point A belongs to the coordinate b system is rotated to the n system by Cb2nZ: \\n\", An)"
      ],
      "metadata": {
        "colab": {
          "base_uri": "https://localhost:8080/"
        },
        "id": "Zh2J6CtFpdXN",
        "outputId": "ce4c75fc-adfb-4cf7-d456-4ff2640f4a09"
      },
      "execution_count": 8,
      "outputs": [
        {
          "output_type": "stream",
          "name": "stdout",
          "text": [
            "point A belongs to the coordinate b system:\n",
            " [0 0 1]\n",
            "The point A belongs to the coordinate b system is rotated to the n system by Cb2nX:\n",
            " [ 0.        -0.5        0.8660254]\n",
            "The point A belongs to the coordinate b system is rotated to the n system by Cb2nY: \n",
            " [0.64278761 0.         0.76604444]\n",
            "The point A belongs to the coordinate b system is rotated to the n system by Cb2nZ: \n",
            " [0. 0. 1.]\n"
          ]
        }
      ]
    },
    {
      "cell_type": "markdown",
      "source": [
        "Nâng cao:\n",
        "\n",
        "Hãy thay đổi góc quay của các ma trận thành -90 °, rồi chuyển điểm A [0,0,1] trong hệ thống b qua ba ma trận Cb2n được quay -90 ° để nhận kết quả\n",
        "\n",
        "Sau đó di chuyển bút một lần nữa, xoay nó theo cách thủ công trong tâm trí của bạn và so sánh xem kết quả của phép tính thủ công có phù hợp với kết quả của Python hay không. Thông qua bài này, bạn sẽ hiểu sâu hơn về phép biến đổi ma trận cơ bản 3D."
      ],
      "metadata": {
        "id": "4dSc1kRnwTPR"
      }
    },
    {
      "cell_type": "code",
      "source": [
        "Ab = np.array([1, 0, 0])\n",
        "\n",
        "print(\"point A belongs to the coordinate b system:\\n\", Ab)\n",
        "\n",
        "\n",
        "An = ch_roty(-90).dot(Ab)\n",
        "print(\"The point A belongs to the coordinate b system is rotated to the n system by Cb2nY: \\n\", An)\n",
        "\n",
        "An = ch_rotx(-90).dot(An)\n",
        "print(\"The point A belongs to the coordinate b system is rotated to the n system by Cb2nX:\\n\", An)\n",
        "\n",
        "An = ch_rotz(-90).dot(An)\n",
        "print(\"The point A belongs to the coordinate b system is rotated to the n system by Cb2nZ: \\n\", An)\n",
        "\n",
        "#ch_rotz(-90).dot(ch_rotx(-90).dot(ch_roty(-90).dot(Ab)))"
      ],
      "metadata": {
        "colab": {
          "base_uri": "https://localhost:8080/"
        },
        "id": "_0dvipy1t4wa",
        "outputId": "65067844-5465-490c-f87b-14ec7a644910"
      },
      "execution_count": 22,
      "outputs": [
        {
          "output_type": "stream",
          "name": "stdout",
          "text": [
            "point A belongs to the coordinate b system:\n",
            " [1 0 0]\n",
            "The point A belongs to the coordinate b system is rotated to the n system by Cb2nY: \n",
            " [6.123234e-17 0.000000e+00 1.000000e+00]\n",
            "The point A belongs to the coordinate b system is rotated to the n system by Cb2nX:\n",
            " [6.123234e-17 1.000000e+00 6.123234e-17]\n",
            "The point A belongs to the coordinate b system is rotated to the n system by Cb2nZ: \n",
            " [1.000000e+00 0.000000e+00 6.123234e-17]\n"
          ]
        }
      ]
    },
    {
      "cell_type": "markdown",
      "source": [
        "Tóm tắt và Khuyến nghị:\n",
        "\n",
        "1. Ma trận chuyển đổi tọa độ từ hệ tọa độ b sang hệ tọa độ n được ký hiệu là b2n, hoặc b->n hoặc\n",
        "\n",
        "<p align=\"left\"><img width=\"25\", src=\"https://www.zhihu.com/equation?tex=C%5E%7Bn%7D_%7Bb%7D\"></p>\n",
        "\n",
        "2. Phải thành thạo phép quay sơ cấp 3D (Givens), đặc biệt chỉ ra rằng phép quay trong bài này được hiểu là ma trận biến đổi tọa độ chuyển điểm tọa độ từ hệ b sang hệ n (b2n). Trong các sách thông tin khác, bạn có khả năng nhìn thấy các ma trận quay sơ cấp khác nhau, điều này là do định nghĩa của mọi người khác nhau, một số có thứ tự n2b, bạn rất dễ bị chóng mặt khi lần đầu tiên tiếp xúc với chúng.\n",
        "\n",
        "3. Bạn nên xây dựng hàm thư viện Python của riêng mình từ bây giờ và biến rotx roty rotz thành hàm thư viện Python của riêng bạn, để bạn có thể lưu trữ và tinh chỉnh những gì bạn đã học. Và cũng hình thành “ổ khóa” hay cảm giác an toàn cho những kiến ​​thức đã học."
      ],
      "metadata": {
        "id": "EaVZ8JXCxOc-"
      }
    }
  ]
}